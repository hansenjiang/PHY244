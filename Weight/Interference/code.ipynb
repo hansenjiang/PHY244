{
 "cells": [
  {
   "cell_type": "code",
   "execution_count": 23,
   "metadata": {},
   "outputs": [],
   "source": [
    "import numpy as np\n",
    "from matplotlib import pyplot as plt\n",
    "from scipy.optimize import curve_fit\n",
    "from decimal import Decimal"
   ]
  },
  {
   "cell_type": "code",
   "execution_count": 73,
   "metadata": {},
   "outputs": [],
   "source": [
    "#Define graphing constants\n",
    "page = (19,10)\n",
    "single_title = 'Light Intensity of Single Slit Diffraction Pattern'\n",
    "double_title = 'Light Intensity of Double Slit Interference Pattern'\n",
    "wavelength = 650 * 10**(-9)     #650nm (red) light\n",
    "length_s = 0.783                #distance from the sensor aperture to the laser aperture, single slit\n",
    "length_d = 1.049                #distance from the sensor aperture to the laser aperture, double slit"
   ]
  },
  {
   "cell_type": "code",
   "execution_count": 98,
   "metadata": {},
   "outputs": [],
   "source": [
    "#Calculate accurate floating point uncertainties using the Decimal module\n",
    "\n",
    "#Uncertainty percentages recorded from \n",
    "#https://www.pasco.com/file_downloads/Downloads_Manuals/PASPORT-High-Sensitivity-Light-Sensor-Manual-PS-2176.pdf\n",
    "a_slow = 0.0001\n",
    "\n",
    "''' Finds the first significant digit in Decimal object n.\n",
    "'''\n",
    "def firstdigit(n):\n",
    "    abs_n = abs(n)\n",
    "    place = 0\n",
    "    if (abs_n >= Decimal('1.0')):\n",
    "        while (abs_n >= Decimal('10.0')):\n",
    "            abs_n = Decimal.shift(abs_n, -1)\n",
    "            place -= 1\n",
    "    else:\n",
    "        while (abs_n < Decimal('1.0')):\n",
    "            abs_n = Decimal.shift(abs_n, 1)\n",
    "            place += 1\n",
    "    return round(n, place)\n",
    "\n",
    "''' Finds the last significant digit in Decimal object n.\n",
    "'''\n",
    "def lastdigit(n):\n",
    "    place = 0\n",
    "    while (n % Decimal('1.0') == Decimal('0.0')):\n",
    "        n = Decimal.shift(n, -1)\n",
    "    while (n % Decimal('1.0') != Decimal('0.0')):\n",
    "        n = Decimal.shift(n, 1)\n",
    "        place -= 1\n",
    "    return place\n",
    "\n",
    "''' Calculates the maximum uncertainty by taking the larger between the error of\n",
    "    accuracy and the error of precision.\n",
    "    Error of accuracy is rounded to one significant digit.\n",
    "'''\n",
    "def finderror(x, a):\n",
    "    dec_x = Decimal(str(np.abs(x)))\n",
    "    dec_a = Decimal(str(a))\n",
    "    err_a = firstdigit(dec_x * dec_a)\n",
    "    err_p = Decimal('1.0') * Decimal(str(10.0**(lastdigit(dec_x))))\n",
    "    return (float)(max(err_a, err_p))"
   ]
  },
  {
   "cell_type": "code",
   "execution_count": 135,
   "metadata": {},
   "outputs": [],
   "source": [
    "''' Saves a graph to directory/filename.png with standard options.\n",
    "'''\n",
    "def makegraph(x, y, title, filename, color='red', linewidth=0.4, figsize=page, xlabel='Sensor Position (m)',\n",
    "              ylabel='Light Intensity (V)', directory='graphs/', show_legend=False, label=None,\n",
    "              plotsecond=False, secondset=(None, None), secondlabel=None):\n",
    "    plt.figure(figsize=figsize)\n",
    "    plt.plot(x, y, color=color, linewidth=linewidth, label=label)\n",
    "    if plotsecond: plt.plot(secondset[0], secondset[1], color='m', linewidth=linewidth, label=secondlabel)\n",
    "    plt.xlabel(xlabel)\n",
    "    plt.ylabel(ylabel)\n",
    "    plt.title(title)\n",
    "    if show_legend: plt.legend()\n",
    "    #plt.show()\n",
    "    plt.savefig(directory+filename+'.png', bbox_inches='tight')\n",
    "    plt.clf()\n",
    "\n",
    "''' Model function for single slit intensity pattern\n",
    "'''\n",
    "def intensity_s(x, I, length, a, offset):\n",
    "    phi = (np.pi * a)/wavelength * ((x - offset)/np.sqrt((x - offset)**2 + length**2))\n",
    "    return I * (np.sin(phi)/phi)**2\n",
    "\n",
    "offset = 0.076\n",
    "length = 1\n",
    "\n",
    "''' Model function for double slit diffraction pattern\n",
    "'''\n",
    "def intensity_d(x, I, a, d):\n",
    "    phi_s = (np.pi * a)/wavelength * ((x - offset)/np.sqrt((x - offset)**2 + length**2))\n",
    "    phi_d = (np.pi * d)/wavelength * ((x - offset)/np.sqrt((x - offset)**2 + length**2))\n",
    "    return I * (np.cos(phi_d))**2 * (np.sin(phi_s)/phi_s)**2"
   ]
  },
  {
   "cell_type": "code",
   "execution_count": 136,
   "metadata": {},
   "outputs": [],
   "source": [
    "#Load the collected data\n",
    "single, double, u_s, u_d = [], [], [], []\n",
    "\n",
    "single.append(np.loadtxt('data/single16a6s10x.txt', skiprows=2))\n",
    "single.append(np.loadtxt('data/single16a4s1x.txt', skiprows=2))\n",
    "single.append(np.loadtxt('data/single16a4s100x.txt', skiprows=2))\n",
    "single.append(np.loadtxt('data/single4a4s100x.txt', skiprows=2))\n",
    "single.append(np.loadtxt('data/single8a4s100x.txt', skiprows=2))\n",
    "\n",
    "double.append(np.loadtxt('data/double4a25d4s1x.txt', skiprows=2))\n",
    "double.append(np.loadtxt('data/double4a25d4s100x.txt', skiprows=2))\n",
    "double.append(np.loadtxt('data/double4a25d4s100x(2).txt', skiprows=2))\n",
    "double.append(np.loadtxt('data/double4a50d4s100x.txt', skiprows=2))\n",
    "double.append(np.loadtxt('data/double8a25d4s100x.txt', skiprows=2))\n",
    "\n",
    "for i in range(5): \n",
    "    u_s.append([finderror(single[i][j,1], a_slow) for j in range(len(single[i]))])\n",
    "    u_d.append([finderror(double[i][j,1], a_slow) for j in range(len(double[i]))])\n",
    "    #for j in range(len(double[i])): double[i][j,0] = np.abs(double[i][j,0])\n",
    "    \n",
    "#for i in range(5): u_s.append([600 for j in range(len(single[i]))])\n",
    "#for i in range(5): u_d.append([60 for j in range(len(double[i]))])\n",
    "\n",
    "single, double, u_s, u_d = np.array(single), np.array(double), np.array(u_s), np.array(u_d)"
   ]
  },
  {
   "cell_type": "code",
   "execution_count": 137,
   "metadata": {
    "scrolled": true
   },
   "outputs": [
    {
     "data": {
      "text/plain": [
       "<matplotlib.figure.Figure at 0x113188e48>"
      ]
     },
     "metadata": {},
     "output_type": "display_data"
    },
    {
     "data": {
      "text/plain": [
       "<matplotlib.figure.Figure at 0x113188470>"
      ]
     },
     "metadata": {},
     "output_type": "display_data"
    },
    {
     "data": {
      "text/plain": [
       "<matplotlib.figure.Figure at 0x1120ce780>"
      ]
     },
     "metadata": {},
     "output_type": "display_data"
    },
    {
     "data": {
      "text/plain": [
       "<matplotlib.figure.Figure at 0x1058759e8>"
      ]
     },
     "metadata": {},
     "output_type": "display_data"
    },
    {
     "data": {
      "text/plain": [
       "<matplotlib.figure.Figure at 0x1058633c8>"
      ]
     },
     "metadata": {},
     "output_type": "display_data"
    },
    {
     "data": {
      "text/plain": [
       "<matplotlib.figure.Figure at 0x111cb98d0>"
      ]
     },
     "metadata": {},
     "output_type": "display_data"
    },
    {
     "data": {
      "text/plain": [
       "<matplotlib.figure.Figure at 0x10fc9d400>"
      ]
     },
     "metadata": {},
     "output_type": "display_data"
    },
    {
     "data": {
      "text/plain": [
       "<matplotlib.figure.Figure at 0x1131ec160>"
      ]
     },
     "metadata": {},
     "output_type": "display_data"
    },
    {
     "data": {
      "text/plain": [
       "<matplotlib.figure.Figure at 0x110f89eb8>"
      ]
     },
     "metadata": {},
     "output_type": "display_data"
    },
    {
     "data": {
      "text/plain": [
       "<matplotlib.figure.Figure at 0x10fcb3048>"
      ]
     },
     "metadata": {},
     "output_type": "display_data"
    }
   ],
   "source": [
    "#Graph the single slit diffraction patterns\n",
    "makegraph(single[0][:,0], single[0][:,1], single_title+', a=0.16mm', 'single16a6s10x')\n",
    "makegraph(single[1][:,0], single[1][:,1], single_title+', a=0.16mm', 'single16a4s1x')\n",
    "makegraph(single[2][:,0], single[2][:,1], single_title+', a=0.16mm', 'single16a4s100x')\n",
    "makegraph(single[3][:,0], single[3][:,1], single_title+', a=0.4mm', 'single4a4s100x')\n",
    "makegraph(single[4][:,0], single[4][:,1], single_title+', a=0.8mm', 'single8a4s100x')\n",
    "\n",
    "#Graph the double slit interference patterns\n",
    "makegraph(double[0][:,0], double[0][:,1], double_title+', a=0.04mm, d=0.25mm', 'double4a25d4s1x')\n",
    "makegraph(double[1][:,0], double[1][:,1], double_title+', a=0.04mm, d=0.25mm', 'double4a25d4s100x')\n",
    "makegraph(double[2][:,0], double[2][:,1], double_title+', a=0.04mm, d=0.25mm', 'double4a25d4s100x(2)')\n",
    "makegraph(double[3][:,0], double[3][:,1], double_title+', a=0.04mm, d=0.50mm', 'double4a50d4s100x')\n",
    "makegraph(double[4][:,0], double[4][:,1], double_title+', a=0.08mm, d=0.25mm', 'double8a25d4s100x')"
   ]
  },
  {
   "cell_type": "code",
   "execution_count": 138,
   "metadata": {},
   "outputs": [
    {
     "name": "stdout",
     "output_type": "stream",
     "text": [
      "[[-2.07798524e+07  3.13939620e+01 -3.50696307e+01]\n",
      " [ 4.43568793e+06  4.96772160e+01  3.56696762e+01]\n",
      " [ 3.06173261e+06  2.45089469e+01 -1.35485612e+01]\n",
      " [ 1.35160023e+07  6.98556742e+01  1.00787358e+01]\n",
      " [ 1.70791185e+07  5.36171141e+01  1.86650121e+01]]\n"
     ]
    },
    {
     "data": {
      "text/plain": [
       "<matplotlib.figure.Figure at 0x110481908>"
      ]
     },
     "metadata": {},
     "output_type": "display_data"
    }
   ],
   "source": [
    "#Setting up constants for curve fit analysis\n",
    "popt_s, pcov_s = [0] * 5, [0] * 5\n",
    "popt_d, pcov_d = [0] * 5, [0] * 5\n",
    "\n",
    "for i in range(5): \n",
    "    popt_s[i], pcov_s[i] = curve_fit(intensity_s, single[i][:,0], single[i][:,1], sigma=u_s[i])\n",
    "popt_s, pcov_s = np.array(popt_s), np.array(pcov_s)\n",
    "\n",
    "for i in range(5):\n",
    "    popt_d[i], pcov_d[i] = curve_fit(intensity_d, double[i][:,0], double[i][:,1], sigma=u_d[i])\n",
    "popt_d, pcov_d = np.array(popt_d), np.array(pcov_d)\n",
    "\n",
    "print(popt_d)\n",
    "\n",
    "space = np.linspace(-100.13, 100, 500)\n",
    "k=0\n",
    "makegraph(single[k][:,0], single[k][:,1], single_title+', a=0.16mm', 'single16a6s10xfit', plotsecond=True, \n",
    "          linewidth=1, secondset=(space, intensity_s(space, popt_s[k,0], popt_s[k,1], popt_s[k,2], popt_s[k,3])), \n",
    "          show_legend=True, label='data', secondlabel='best fit')"
   ]
  },
  {
   "cell_type": "code",
   "execution_count": null,
   "metadata": {},
   "outputs": [],
   "source": []
  }
 ],
 "metadata": {
  "kernelspec": {
   "display_name": "Python 3",
   "language": "python",
   "name": "python3"
  },
  "language_info": {
   "codemirror_mode": {
    "name": "ipython",
    "version": 3
   },
   "file_extension": ".py",
   "mimetype": "text/x-python",
   "name": "python",
   "nbconvert_exporter": "python",
   "pygments_lexer": "ipython3",
   "version": "3.6.4"
  }
 },
 "nbformat": 4,
 "nbformat_minor": 2
}
