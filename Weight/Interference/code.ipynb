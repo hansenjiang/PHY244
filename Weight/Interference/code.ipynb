{
 "cells": [
  {
   "cell_type": "code",
   "execution_count": 1,
   "metadata": {},
   "outputs": [],
   "source": [
    "import numpy as np\n",
    "from matplotlib import pyplot as plt\n",
    "from matplotlib.ticker import AutoMinorLocator\n",
    "from scipy.optimize import curve_fit\n",
    "from decimal import Decimal"
   ]
  },
  {
   "cell_type": "code",
   "execution_count": 2,
   "metadata": {},
   "outputs": [],
   "source": [
    "#Define graphing constants\n",
    "page = (19,10)\n",
    "single_title = 'Light Intensity of Single Slit Diffraction Pattern'\n",
    "double_title = 'Light Intensity of Double Slit Interference Pattern'\n",
    "\n",
    "#Global variables\n",
    "I, offset, length = 1.0, 0.07, 1.0"
   ]
  },
  {
   "cell_type": "code",
   "execution_count": 3,
   "metadata": {},
   "outputs": [],
   "source": [
    "#Calculate accurate floating point uncertainties using the Decimal module\n",
    "\n",
    "#Uncertainty percentages recorded from \n",
    "#https://www.pasco.com/file_downloads/Downloads_Manuals/PASPORT-High-Sensitivity-Light-Sensor-Manual-PS-2176.pdf\n",
    "a_slow = 0.0001\n",
    "\n",
    "''' Finds the first significant digit in Decimal object n.\n",
    "'''\n",
    "def firstdigit(n):\n",
    "    abs_n = abs(n)\n",
    "    place = 0\n",
    "    if (abs_n >= Decimal('1.0')):\n",
    "        while (abs_n >= Decimal('10.0')):\n",
    "            abs_n = Decimal.shift(abs_n, -1)\n",
    "            place -= 1\n",
    "    else:\n",
    "        while (abs_n < Decimal('1.0')):\n",
    "            abs_n = Decimal.shift(abs_n, 1)\n",
    "            place += 1\n",
    "    return round(n, place)\n",
    "\n",
    "''' Finds the last significant digit in Decimal object n.\n",
    "'''\n",
    "def lastdigit(n):\n",
    "    place = 0\n",
    "    while (n % Decimal('1.0') == Decimal('0.0')):\n",
    "        n = Decimal.shift(n, -1)\n",
    "    while (n % Decimal('1.0') != Decimal('0.0')):\n",
    "        n = Decimal.shift(n, 1)\n",
    "        place -= 1\n",
    "    return place\n",
    "\n",
    "''' Calculates the maximum uncertainty by taking the larger between the error of\n",
    "    accuracy and the error of precision.\n",
    "    Error of accuracy is rounded to one significant digit.\n",
    "'''\n",
    "def finderror(x, a):\n",
    "    dec_x = Decimal(str(np.abs(x)))\n",
    "    dec_a = Decimal(str(a))\n",
    "    err_a = firstdigit(dec_x * dec_a)\n",
    "    err_p = Decimal('1.0') * Decimal(str(10.0**(lastdigit(dec_x))))\n",
    "    return (float)(max(err_a, err_p))"
   ]
  },
  {
   "cell_type": "code",
   "execution_count": 37,
   "metadata": {},
   "outputs": [],
   "source": [
    "''' Model function for single slit intensity pattern\n",
    "'''\n",
    "def intensity_s(x, a):\n",
    "    phi = (np.pi * a)/wavelength * ((x + offset)/np.sqrt((x + offset)**2 + length**2))\n",
    "    return I * (np.sin(phi)/phi)**2\n",
    "\n",
    "''' Model function for double slit diffraction pattern\n",
    "'''\n",
    "def intensity_d(x, a, d):\n",
    "    phi_s = (np.pi * a)/wavelength * ((x + offset)/np.sqrt((x + offset)**2 + length**2))\n",
    "    phi_d = (np.pi * d)/wavelength * ((x + offset)/np.sqrt((x + offset)**2 + length**2))\n",
    "    return I * (np.cos(phi_d))**2 * (np.sin(phi_s)/phi_s)**2\n",
    "\n",
    "''' Saves a graph to directory/filename.png with standard options.\n",
    "'''\n",
    "def makegraph(x, y, title, filename, color='red', linewidth=0.4, figsize=page, xlabel='Sensor Position (m)',\n",
    "              ylabel='Light Intensity (V)', directory='graphs/', show_legend=False, label=None,\n",
    "              plotsecond=False, secondset=(None, None), secondlabel=None, u=None):\n",
    "    plt.figure(figsize=figsize)\n",
    "    if u == None: plt.plot(x, y, color=color, linewidth=linewidth, label=label)\n",
    "    else: plt.errorbar(x, y, yerr=u, ecolor=color, elinewidth=1.0, capthick=1.0, capsize=2.0, fmt='none', label=label)\n",
    "    if plotsecond: plt.plot(secondset[0], secondset[1], color='#197cff', linewidth=linewidth+0.6, label=secondlabel)\n",
    "    plt.xlabel(xlabel)\n",
    "    plt.ylabel(ylabel)\n",
    "    plt.title(title)\n",
    "    if show_legend: plt.legend()\n",
    "    #plt.show()\n",
    "    plt.savefig(directory+filename+'.png', bbox_inches='tight')\n",
    "    plt.clf()\n",
    "\n",
    "''' Calls makegraph with optimum values and best fit data\n",
    "'''\n",
    "def makegraphfit(i, title, filename, which, popt, u=None):\n",
    "    space = np.linspace(-0.13, 0.0, 1000)\n",
    "    global I\n",
    "    global offset\n",
    "    global length\n",
    "    if (which == 'single'):\n",
    "        I, offset, length = I_s[i], offset_s[i], length_s\n",
    "        makegraph(single[i][:,0], single[i][:,1], title, filename, \n",
    "                  plotsecond=True, secondset=(space, intensity_s(space, popt)), \n",
    "                  show_legend=True, label='data', secondlabel='best fit', u=u)\n",
    "    else:\n",
    "        I, offset, length = I_d[i], offset_d[i], length_d\n",
    "        makegraph(double[i][:,0], double[i][:,1], title, filename,\n",
    "                  plotsecond=True, secondset=(space, intensity_d(space, popt[0], popt[1])), \n",
    "                  show_legend=True, label='data', secondlabel='best fit', u=u)"
   ]
  },
  {
   "cell_type": "code",
   "execution_count": 65,
   "metadata": {},
   "outputs": [],
   "source": [
    "#Load the collected data\n",
    "single, double, u_s, u_d = [], [], [], []\n",
    "\n",
    "single.append(np.loadtxt('data/single4a4s100x.txt', skiprows=2))\n",
    "single.append(np.loadtxt('data/single8a4s100x.txt', skiprows=2))\n",
    "single.append(np.loadtxt('data/single16a4s1x.txt', skiprows=2))\n",
    "single.append(np.loadtxt('data/single16a4s100x.txt', skiprows=2))\n",
    "single.append(np.loadtxt('data/single16a6s10x.txt', skiprows=2))\n",
    "\n",
    "double.append(np.loadtxt('data/double4a25d4s1x.txt', skiprows=2))\n",
    "double.append(np.loadtxt('data/double4a25d4s100x.txt', skiprows=2))\n",
    "double.append(np.loadtxt('data/double4a25d4s100x(2).txt', skiprows=2))\n",
    "double.append(np.loadtxt('data/double4a50d4s100x.txt', skiprows=2))\n",
    "double.append(np.loadtxt('data/double8a25d4s100x.txt', skiprows=2))\n",
    "\n",
    "for i in range(5):\n",
    "    while (Decimal((float)(single[i][0][0])) == Decimal('0.0')): single[i] = np.delete(single[i], (0), axis=0)\n",
    "    while (Decimal((float)(double[i][0][0])) == Decimal('0.0')): double[i] = np.delete(double[i], (0), axis=0)\n",
    "    single, double = np.array(single), np.array(double)\n",
    "    \n",
    "for i in range(5): \n",
    "    #u_s.append([finderror(single[i][j,1], a_slow) for j in range(len(single[i]))])\n",
    "    #u_d.append([finderror(double[i][j,1], a_slow) for j in range(len(double[i]))])\n",
    "    u_s.append([0.01 for j in range(len(single[i]))])\n",
    "    u_d.append([0.1 for j in range(len(double[i]))])\n",
    "    #for j in range(len(double[i])): double[i][j,0] = np.abs(double[i][j,0])\n",
    "\n",
    "single, double, u_s, u_d = np.array(single), np.array(double), np.array(u_s), np.array(u_d)\n",
    "\n",
    "wavelength = 650 * 10**(-9)     #650nm (red) light\n",
    "length_s = 0.783                #distance from the sensor aperture to the laser aperture, single slit\n",
    "length_d = 0.745                #distance from the sensor aperture to the laser aperture, double slit\n",
    "I_s = np.array([0.27158, 1.14082, 0.02716, 3.95709, 0.07018])       #maximum intensity in corresponding single data\n",
    "I_d = np.array([0.00766, 0.17700, 0.67458, 0.71563, 3.30389])       #maximum intensity in corresponding double data\n",
    "#offset_s = np.array([0.06889, 0.06900, 0.06694, 0.06705, 0.07578])  #offset of maximum in corresponding single data\n",
    "#offset_d = np.array([0.06939, 0.06755, 0.06939, 0.06817, 0.06928])  #offset of maximum in corresponding double data\n",
    "offset_s = np.array([0.0694213, 0.0694508, 0.0675186, 0.0757648, 0.0680048])\n",
    "offset_d = np.array([0.0697878, 0.0679757, 0.0693881, 0.0691909, 0.0692345])"
   ]
  },
  {
   "cell_type": "code",
   "execution_count": 36,
   "metadata": {
    "scrolled": true
   },
   "outputs": [
    {
     "data": {
      "text/plain": [
       "<matplotlib.figure.Figure at 0x1109c6128>"
      ]
     },
     "metadata": {},
     "output_type": "display_data"
    },
    {
     "data": {
      "text/plain": [
       "<matplotlib.figure.Figure at 0x1109c6d68>"
      ]
     },
     "metadata": {},
     "output_type": "display_data"
    },
    {
     "data": {
      "text/plain": [
       "<matplotlib.figure.Figure at 0x110a2b7f0>"
      ]
     },
     "metadata": {},
     "output_type": "display_data"
    },
    {
     "data": {
      "text/plain": [
       "<matplotlib.figure.Figure at 0x110a28c88>"
      ]
     },
     "metadata": {},
     "output_type": "display_data"
    },
    {
     "data": {
      "text/plain": [
       "<matplotlib.figure.Figure at 0x1519689828>"
      ]
     },
     "metadata": {},
     "output_type": "display_data"
    },
    {
     "data": {
      "text/plain": [
       "<matplotlib.figure.Figure at 0x10cd236a0>"
      ]
     },
     "metadata": {},
     "output_type": "display_data"
    },
    {
     "data": {
      "text/plain": [
       "<matplotlib.figure.Figure at 0x1519689fd0>"
      ]
     },
     "metadata": {},
     "output_type": "display_data"
    },
    {
     "data": {
      "text/plain": [
       "<matplotlib.figure.Figure at 0x15204b1358>"
      ]
     },
     "metadata": {},
     "output_type": "display_data"
    },
    {
     "data": {
      "text/plain": [
       "<matplotlib.figure.Figure at 0x151a73b7f0>"
      ]
     },
     "metadata": {},
     "output_type": "display_data"
    },
    {
     "data": {
      "text/plain": [
       "<matplotlib.figure.Figure at 0x151d3b1a58>"
      ]
     },
     "metadata": {},
     "output_type": "display_data"
    }
   ],
   "source": [
    "#Graph the single slit diffraction patterns\n",
    "makegraph(single[0][:,0], single[0][:,1], single_title+', a=0.04mm', 'single4a4s100x')\n",
    "makegraph(single[1][:,0], single[1][:,1], single_title+', a=0.08mm', 'single8a4s100x')\n",
    "makegraph(single[2][:,0], single[2][:,1], single_title+', a=0.16mm', 'single16a4s1x')\n",
    "makegraph(single[3][:,0], single[3][:,1], single_title+', a=0.16mm', 'single16a4s100x')\n",
    "makegraph(single[4][:,0], single[4][:,1], single_title+', a=0.16mm', 'single16a6s10x')\n",
    "\n",
    "#Graph the double slit interference patterns\n",
    "makegraph(double[0][:,0], double[0][:,1], double_title+', a=0.04mm, d=0.25mm', 'double4a25d4s1x')\n",
    "makegraph(double[1][:,0], double[1][:,1], double_title+', a=0.04mm, d=0.25mm', 'double4a25d4s100x')\n",
    "makegraph(double[2][:,0], double[2][:,1], double_title+', a=0.04mm, d=0.25mm', 'double4a25d4s100x(2)')\n",
    "makegraph(double[3][:,0], double[3][:,1], double_title+', a=0.04mm, d=0.50mm', 'double4a50d4s100x')\n",
    "makegraph(double[4][:,0], double[4][:,1], double_title+', a=0.08mm, d=0.25mm', 'double8a25d4s100x')"
   ]
  },
  {
   "cell_type": "code",
   "execution_count": 72,
   "metadata": {},
   "outputs": [
    {
     "name": "stdout",
     "output_type": "stream",
     "text": [
      "a:\n",
      " [[-0.55983534]\n",
      " [ 1.01319165]\n",
      " [-0.59137976]\n",
      " [ 1.25409195]\n",
      " [ 1.00807835]] \n",
      "\n",
      " pcov:\n",
      " [[[  98.5207614 ]]\n",
      "\n",
      " [[3716.48070111]]\n",
      "\n",
      " [[  75.76476405]]\n",
      "\n",
      " [[ 958.61709973]]\n",
      "\n",
      " [[ 997.07583432]]]\n",
      "\n",
      "\n",
      "a, d:\n",
      " [[-54.13355318   7.03108375]\n",
      " [  1.10515088   0.93515548]\n",
      " [ -1.65450951  -2.54896634]\n",
      " [  1.05655072   0.78351671]\n",
      " [ -0.11448647 -43.51650486]] \n",
      "\n",
      " pcov:\n",
      " [[[ 1.23491717e+11  1.48343324e+10]\n",
      "  [ 1.48343324e+10  1.10456423e+11]]\n",
      "\n",
      " [[ 1.18976837e+04 -3.48107136e+03]\n",
      "  [-3.48107136e+03  2.51954596e+03]]\n",
      "\n",
      " [[ 3.45761614e+03  1.41154490e+02]\n",
      "  [ 1.41154490e+02  7.39141054e+03]]\n",
      "\n",
      " [[ 5.71561109e+03  2.27971903e+03]\n",
      "  [ 2.27971903e+03  1.29965892e+03]]\n",
      "\n",
      " [[ 6.21853523e-01  9.58132659e-01]\n",
      "  [ 9.58132659e-01  1.61648571e+00]]]\n"
     ]
    }
   ],
   "source": [
    "#Setting up constants for curve fit analysis\n",
    "popt_s, pcov_s = [0] * 5, [0] * 5\n",
    "popt_d, pcov_d = [0] * 5, [0] * 5\n",
    "\n",
    "for i in range(5): \n",
    "    I, offset, length = I_s[i], offset_s[i], length_s\n",
    "    popt_s[i], pcov_s[i] = curve_fit(intensity_s, single[i][:,0], single[i][:,1], sigma=u_s[i])\n",
    "    I, offset, length = I_d[i], offset_d[i], length_d\n",
    "    popt_d[i], pcov_d[i] = curve_fit(intensity_d, double[i][:,0], double[i][:,1], sigma=u_d[i])\n",
    "    \n",
    "popt_s, pcov_s = np.array(popt_s), np.array(pcov_s)\n",
    "popt_d, pcov_d = np.array(popt_d), np.array(pcov_d)\n",
    "\n",
    "print('a:\\n', popt_s, '\\n\\n', 'pcov:\\n', pcov_s)\n",
    "print('\\n')\n",
    "print('a, d:\\n', popt_d, '\\n\\n', 'pcov:\\n', pcov_d)"
   ]
  },
  {
   "cell_type": "code",
   "execution_count": 67,
   "metadata": {},
   "outputs": [
    {
     "data": {
      "text/plain": [
       "<matplotlib.figure.Figure at 0x151cf424e0>"
      ]
     },
     "metadata": {},
     "output_type": "display_data"
    },
    {
     "data": {
      "text/plain": [
       "<matplotlib.figure.Figure at 0x151cf42320>"
      ]
     },
     "metadata": {},
     "output_type": "display_data"
    },
    {
     "data": {
      "text/plain": [
       "<matplotlib.figure.Figure at 0x151cf42ba8>"
      ]
     },
     "metadata": {},
     "output_type": "display_data"
    },
    {
     "data": {
      "text/plain": [
       "<matplotlib.figure.Figure at 0x1109cd5f8>"
      ]
     },
     "metadata": {},
     "output_type": "display_data"
    },
    {
     "data": {
      "text/plain": [
       "<matplotlib.figure.Figure at 0x151d3ca320>"
      ]
     },
     "metadata": {},
     "output_type": "display_data"
    },
    {
     "data": {
      "text/plain": [
       "<matplotlib.figure.Figure at 0x1519bdd208>"
      ]
     },
     "metadata": {},
     "output_type": "display_data"
    },
    {
     "data": {
      "text/plain": [
       "<matplotlib.figure.Figure at 0x151d3cada0>"
      ]
     },
     "metadata": {},
     "output_type": "display_data"
    },
    {
     "data": {
      "text/plain": [
       "<matplotlib.figure.Figure at 0x151cf67160>"
      ]
     },
     "metadata": {},
     "output_type": "display_data"
    },
    {
     "data": {
      "text/plain": [
       "<matplotlib.figure.Figure at 0x151e978048>"
      ]
     },
     "metadata": {},
     "output_type": "display_data"
    },
    {
     "data": {
      "text/plain": [
       "<matplotlib.figure.Figure at 0x151a73a080>"
      ]
     },
     "metadata": {},
     "output_type": "display_data"
    }
   ],
   "source": [
    "#Graph the single slit data with best fit\n",
    "makegraphfit(0, single_title+', a=0.04mm', 'single4a4s100xfit', 'single', 0.04*10**(-3), u=u_s[0])\n",
    "makegraphfit(1, single_title+', a=0.08mm', 'single8a4s100xfit', 'single', 0.08*10**(-3), u=u_s[1])\n",
    "makegraphfit(2, single_title+', a=0.16mm', 'single16a4s1xfit', 'single', 0.04*10**(-3), u=u_s[2])\n",
    "makegraphfit(3, single_title+', a=0.16mm', 'single16a4s100xfit', 'single', 0.16*10**(-3), u=u_s[3])\n",
    "makegraphfit(4, single_title+', a=0.16mm', 'single16a6s10xfit', 'single', 0.04*10**(-3), u=u_s[4])\n",
    "\n",
    "#Graph the double slit data with best fit\n",
    "makegraphfit(0, double_title+', a=0.04mm, d=0.25mm', 'double4a25d4s1xfit', 'double', (0.00004, 0.00025), u=u_d[0])\n",
    "makegraphfit(1, double_title+', a=0.04mm, d=0.25mm', 'double4a25d4s100xfit', 'double', (0.00004, 0.00025), u=u_d[1])\n",
    "makegraphfit(2, double_title+', a=0.04mm, d=0.25mm', 'double4a25d4s100x(2)fit', 'double', (0.00004, 0.00025), u=u_d[2])\n",
    "makegraphfit(3, double_title+', a=0.04mm, d=0.50mm', 'double4a50d4s100xfit', 'double', (0.00004, 0.00050), u=u_d[3])\n",
    "makegraphfit(4, double_title+', a=0.08mm, d=0.25mm', 'double8a25d4s100xfit', 'double', (0.00008, 0.00025), u=u_d[4])"
   ]
  },
  {
   "cell_type": "code",
   "execution_count": 66,
   "metadata": {},
   "outputs": [
    {
     "name": "stdout",
     "output_type": "stream",
     "text": [
      "0.23880095861704087 \n",
      " 0.002420969965283461 \n",
      "\n",
      "1.0259733716065003 \n",
      " 0.040423116291086705 \n",
      "\n",
      "0.2394804279032715 \n",
      " 0.07671379803448426 \n",
      "\n",
      "200.53469633755185 \n",
      " 0.19328256747714476 \n",
      "\n",
      "0.22754105354015605 \n",
      " 0.5421348532929947 \n",
      "\n"
     ]
    }
   ],
   "source": [
    "#Reduced chi squared\n",
    "\n",
    "a_s = np.array([0.00004, 0.00008, 0.00004, 0.00016, 0.00004])\n",
    "a_d = np.array([[0.00004, 0.00025], [0.00004, 0.00025], [0.00004, 0.00025], [0.00004, 0.00050], [0.00008, 0.00025]])\n",
    "\n",
    "for i in range(5): \n",
    "    N_s, N_d, n_s, n_d = len(single[i]), len(double[i]), 1, 2\n",
    "    I, offset, length = I_s[i], offset_s[i], length_s\n",
    "    chi_s = np.sum([((single[i][j,1] - intensity_s(single[i][j,0], a_s[i]))/u_s[i][j])**2 for j in range(N_s)])/(N_s - n_s)\n",
    "    I, offset, length = I_d[i], offset_d[i], length_d\n",
    "    chi_d = np.sum([((double[i][j,1] - intensity_d(double[i][j,0], a_d[i][0], a_d[i][1]))/u_d[i][j])**2 for j in range(N_d)])/(N_d - n_d)\n",
    "    print(chi_s,'\\n',chi_d,'\\n')"
   ]
  },
  {
   "cell_type": "code",
   "execution_count": null,
   "metadata": {},
   "outputs": [],
   "source": []
  }
 ],
 "metadata": {
  "kernelspec": {
   "display_name": "Python 3",
   "language": "python",
   "name": "python3"
  },
  "language_info": {
   "codemirror_mode": {
    "name": "ipython",
    "version": 3
   },
   "file_extension": ".py",
   "mimetype": "text/x-python",
   "name": "python",
   "nbconvert_exporter": "python",
   "pygments_lexer": "ipython3",
   "version": "3.6.4"
  }
 },
 "nbformat": 4,
 "nbformat_minor": 2
}
