{
 "cells": [
  {
   "cell_type": "code",
   "execution_count": 1,
   "metadata": {},
   "outputs": [],
   "source": [
    "import numpy as np\n",
    "from matplotlib import pyplot as plt\n",
    "from scipy.optimize import curve_fit"
   ]
  },
  {
   "cell_type": "code",
   "execution_count": 2,
   "metadata": {},
   "outputs": [],
   "source": [
    "''' Model function for single slit intensity pattern\n",
    "'''\n",
    "def intensity_s(x, a):\n",
    "    phi = (np.pi * a)/wavelength * ((x + offset)/np.sqrt((x + offset)**2 + length**2))\n",
    "    return I * (np.sin(phi)/phi)**2\n",
    "\n",
    "''' Model function for double slit diffraction pattern\n",
    "'''\n",
    "def intensity_d(x, a, d):\n",
    "    phi_s = (np.pi * a)/wavelength * ((x + offset)/np.sqrt((x + offset)**2 + length**2))\n",
    "    phi_d = (np.pi * d)/wavelength * ((x + offset)/np.sqrt((x + offset)**2 + length**2))\n",
    "    return I * (np.cos(phi_d))**2 * (np.sin(phi_s)/phi_s)**2"
   ]
  },
  {
   "cell_type": "code",
   "execution_count": 3,
   "metadata": {},
   "outputs": [],
   "source": [
    "wavelength = 650 * 10**(-9)     #650nm (red) light\n",
    "length_s = 0.783                #distance from the sensor aperture to the laser aperture, single slit\n",
    "length_d = 0.745                #distance from the sensor aperture to the laser aperture, double slit\n",
    "I_s = np.array([0.27158, 1.14082, 0.02716, 3.95709, 0.07018])       #maximum intensity in corresponding single data\n",
    "I_d = np.array([0.00766, 0.17700, 0.67458, 0.71563, 3.30389])       #maximum intensity in corresponding double data\n",
    "#offset_s = np.array([0.06889, 0.06900, 0.06694, 0.06705, 0.07578])  #offset of maximum in corresponding single data\n",
    "#offset_d = np.array([0.06939, 0.06755, 0.06939, 0.06817, 0.06928])  #offset of maximum in corresponding double data\n",
    "offset_s = np.array([0.0694213, 0.0694508, 0.0675186, 0.0757648, 0.0680048])\n",
    "offset_d = np.array([0.0697878, 0.0679757, 0.0693881, 0.0691909, 0.0692345])"
   ]
  },
  {
   "cell_type": "code",
   "execution_count": 27,
   "metadata": {},
   "outputs": [
    {
     "data": {
      "image/png": "[encoded data removed]",
      "text/plain": [
       "<matplotlib.figure.Figure at 0x151266eb00>"
      ]
     },
     "metadata": {},
     "output_type": "display_data"
    },
    {
     "name": "stdout",
     "output_type": "stream",
     "text": [
      "[array([4.e-05]), array([8.e-05]), array([4.e-05]), array([0.00016]), array([4.e-05])]\n"
     ]
    }
   ],
   "source": [
    "single, double, u_s, u_d = [], [], [], []\n",
    "for i in range(5):\n",
    "    single.append(np.empty((1000,2)))\n",
    "    double.append(np.empty((1000,2)))\n",
    "    u_s.append(np.empty(1000))\n",
    "    u_d.append(np.empty(1000))\n",
    "\n",
    "space = np.linspace(-0.13, 0.0, 1000)\n",
    "a_s = np.array([0.00004, 0.00008, 0.00004, 0.00016, 0.00004])\n",
    "a_d = np.array([[0.00004, 0.00025], [0.00004, 0.00025], [0.00004, 0.00025], [0.00004, 0.00050], [0.00008, 0.00025]])\n",
    "\n",
    "for i in range(5):\n",
    "    for j in range(1000):\n",
    "        I, offset, length = I_s[i], offset_s[i], length_s\n",
    "        single[i][j][0] = space[j]\n",
    "        single[i][j][1] = intensity_s(space[j], a_s[i])\n",
    "        I, offset, length = I_d[i], offset_d[i], length_d\n",
    "        double[i][j][0] = space[j]\n",
    "        double[i][j][1] = intensity_d(space[j], a_d[i][0], a_d[i][1])\n",
    "        u_s[i][j] = 0.00001\n",
    "        u_d[i][j] = 0.00001\n",
    "\n",
    "single, double, u_s, u_d = np.array(single), np.array(double), np.array(u_s), np.array(u_d)\n",
    "\n",
    "popt_s, pcov_s, popt_d, pcov_d = [0]*5, [0]*5, [0]*5, [0]*5\n",
    "\n",
    "for i in range(5): \n",
    "    I, offset, length = I_s[i], offset_s[i], length_s\n",
    "    popt_s[i], pcov_s[i] = curve_fit(intensity_s, single[i][:,0], single[i][:,1], p0=0.0004, sigma=u_s[i])\n",
    "    I, offset, length = I_d[i], offset_d[i], length_d\n",
    "    popt_d[i], pcov_d[i] = curve_fit(intensity_d, double[i][:,0], double[i][:,1], sigma=u_d[i])\n",
    "\n",
    "I, offset, length = I_s[0], offset_s[0], length_s\n",
    "plt.plot(space, intensity_s(space, a_s[0]))\n",
    "plt.plot(space, intensity_s(space, popt_s[0]))\n",
    "plt.show()\n",
    "    \n",
    "print(popt_s)"
   ]
  },
  {
   "cell_type": "code",
   "execution_count": null,
   "metadata": {},
   "outputs": [],
   "source": []
  }
 ],
 "metadata": {
  "kernelspec": {
   "display_name": "Python 3",
   "language": "python",
   "name": "python3"
  },
  "language_info": {
   "codemirror_mode": {
    "name": "ipython",
    "version": 3
   },
   "file_extension": ".py",
   "mimetype": "text/x-python",
   "name": "python",
   "nbconvert_exporter": "python",
   "pygments_lexer": "ipython3",
   "version": "3.6.4"
  }
 },
 "nbformat": 4,
 "nbformat_minor": 2
}
