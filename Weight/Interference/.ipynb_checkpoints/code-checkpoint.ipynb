{
 "cells": [
  {
   "cell_type": "code",
   "execution_count": 1,
   "metadata": {},
   "outputs": [],
   "source": [
    "import numpy as np\n",
    "from matplotlib import pyplot as plt\n",
    "from scipy.optimize import curve_fit\n",
    "from decimal import Decimal"
   ]
  },
  {
   "cell_type": "code",
   "execution_count": 2,
   "metadata": {},
   "outputs": [],
   "source": [
    "#Define graphing constants\n",
    "page = (8.5,5)\n",
    "single_title = 'Light Intensity of Single Slit Diffraction Pattern'\n",
    "double_title = 'Light Intensity of Double Slit Interference Pattern'\n",
    "\n",
    "#Global variables\n",
    "I, offset, length = 1.0, 0.07, 1.0"
   ]
  },
  {
   "cell_type": "code",
   "execution_count": 3,
   "metadata": {},
   "outputs": [],
   "source": [
    "#Calculate accurate floating point uncertainties using the Decimal module\n",
    "\n",
    "#Uncertainty percentages recorded from \n",
    "#https://www.pasco.com/file_downloads/Downloads_Manuals/PASPORT-High-Sensitivity-Light-Sensor-Manual-PS-2176.pdf\n",
    "a_slow = 0.0001\n",
    "\n",
    "''' Finds the first significant digit in Decimal object n.\n",
    "'''\n",
    "def firstdigit(n):\n",
    "    abs_n = abs(n)\n",
    "    place = 0\n",
    "    if (abs_n >= Decimal('1.0')):\n",
    "        while (abs_n >= Decimal('10.0')):\n",
    "            abs_n = Decimal.shift(abs_n, -1)\n",
    "            place -= 1\n",
    "    else:\n",
    "        while (abs_n < Decimal('1.0')):\n",
    "            abs_n = Decimal.shift(abs_n, 1)\n",
    "            place += 1\n",
    "    return round(n, place)\n",
    "\n",
    "''' Finds the last significant digit in Decimal object n.\n",
    "'''\n",
    "def lastdigit(n):\n",
    "    place = 0\n",
    "    while (n % Decimal('1.0') == Decimal('0.0')):\n",
    "        n = Decimal.shift(n, -1)\n",
    "    while (n % Decimal('1.0') != Decimal('0.0')):\n",
    "        n = Decimal.shift(n, 1)\n",
    "        place -= 1\n",
    "    return place\n",
    "\n",
    "''' Calculates the maximum uncertainty by taking the larger between the error of\n",
    "    accuracy and the error of precision.\n",
    "    Error of accuracy is rounded to one significant digit.\n",
    "'''\n",
    "def finderror(x, a):\n",
    "    dec_x = Decimal(str(np.abs(x)))\n",
    "    dec_a = Decimal(str(a))\n",
    "    err_a = firstdigit(dec_x * dec_a)\n",
    "    err_p = Decimal('1.0') * Decimal(str(10.0**(lastdigit(dec_x))))\n",
    "    return (float)(max(err_a, err_p))"
   ]
  },
  {
   "cell_type": "code",
   "execution_count": 17,
   "metadata": {},
   "outputs": [],
   "source": [
    "''' Model function for single slit intensity pattern\n",
    "'''\n",
    "def intensity_s(x, a):\n",
    "    phi = (np.pi * a)/wavelength * ((x + offset)/np.sqrt((x + offset)**2 + length**2))\n",
    "    return I * (np.sin(phi)/phi)**2\n",
    "\n",
    "''' Model function for double slit diffraction pattern\n",
    "'''\n",
    "def intensity_d(x, a, d):\n",
    "    phi_s = (np.pi * a)/wavelength * ((x + offset)/np.sqrt((x + offset)**2 + length**2))\n",
    "    phi_d = (np.pi * d)/wavelength * ((x + offset)/np.sqrt((x + offset)**2 + length**2))\n",
    "    return I * (np.cos(phi_d))**2 * (np.sin(phi_s)/phi_s)**2\n",
    "\n",
    "''' Saves a graph to directory/filename.png with standard options.\n",
    "'''\n",
    "def makegraph(x, y, title, filename, color='red', linewidth=0.4, figsize=page, xlabel='Sensor Position (m)',\n",
    "              ylabel='Light Intensity (V)', directory='graphs/', show_legend=False, label=None,\n",
    "              plotsecond=False, secondset=(None, None), secondlabel=None, u=None):\n",
    "    plt.figure(figsize=figsize)\n",
    "    if u == None: plt.plot(x, y, color=color, linewidth=linewidth, label=label)\n",
    "    else: plt.errorbar(x, y, yerr=u, ecolor=color, elinewidth=1.0, capthick=1.0, capsize=2.0, fmt='none', label=label)\n",
    "    if plotsecond: plt.plot(secondset[0], secondset[1], color='#197cff', linewidth=linewidth+0.6, label=secondlabel)\n",
    "    plt.xlabel(xlabel)\n",
    "    plt.ylabel(ylabel)\n",
    "    plt.title(title)\n",
    "    if show_legend: plt.legend()\n",
    "    #plt.show()\n",
    "    plt.savefig(directory+filename+'.png', bbox_inches='tight')\n",
    "    plt.clf()\n",
    "\n",
    "''' Calls makegraph with optimum values and best fit data\n",
    "'''\n",
    "def makegraphfit(i, title, filename, which, popt, u=None):\n",
    "    space = np.linspace(-0.13, 0.0, 1000)\n",
    "    global I\n",
    "    global offset\n",
    "    global length\n",
    "    if (which == 'single'):\n",
    "        I, offset, length = I_s[i], offset_s[i], length_s\n",
    "        makegraph(single[i][:,0], single[i][:,1], title, filename, \n",
    "                  plotsecond=True, secondset=(space, intensity_s(space, popt)), \n",
    "                  show_legend=True, label='data', secondlabel='best fit', u=u)\n",
    "    else:\n",
    "        I, offset, length = I_d[i], offset_d[i], length_d\n",
    "        makegraph(double[i][:,0], double[i][:,1], title, filename,\n",
    "                  plotsecond=True, secondset=(space, intensity_d(space, popt[0], popt[1])), \n",
    "                  show_legend=True, label='data', secondlabel='best fit', u=u)"
   ]
  },
  {
   "cell_type": "code",
   "execution_count": 22,
   "metadata": {},
   "outputs": [],
   "source": [
    "#Load the collected data\n",
    "single, double, u_s, u_d = [], [], [], []\n",
    "\n",
    "single.append(np.loadtxt('data/single4a4s100x.txt', skiprows=2))\n",
    "single.append(np.loadtxt('data/single8a4s100x.txt', skiprows=2))\n",
    "single.append(np.loadtxt('data/single16a4s1x.txt', skiprows=2))\n",
    "single.append(np.loadtxt('data/single16a4s100x.txt', skiprows=2))\n",
    "single.append(np.loadtxt('data/single16a6s10x.txt', skiprows=2))\n",
    "\n",
    "double.append(np.loadtxt('data/double4a25d4s1x.txt', skiprows=2))\n",
    "double.append(np.loadtxt('data/double4a25d4s100x.txt', skiprows=2))\n",
    "double.append(np.loadtxt('data/double4a25d4s100x(2).txt', skiprows=2))\n",
    "double.append(np.loadtxt('data/double4a50d4s100x.txt', skiprows=2))\n",
    "double.append(np.loadtxt('data/double8a25d4s100x.txt', skiprows=2))\n",
    "\n",
    "for i in range(5):\n",
    "    while (Decimal((float)(single[i][0][0])) == Decimal('0.0')): single[i] = np.delete(single[i], (0), axis=0)\n",
    "    while (Decimal((float)(double[i][0][0])) == Decimal('0.0')): double[i] = np.delete(double[i], (0), axis=0)\n",
    "    single, double = np.array(single), np.array(double)\n",
    "    \n",
    "for i in range(5): \n",
    "    u_s.append([finderror(single[i][j,1], a_slow) for j in range(len(single[i]))])\n",
    "    u_d.append([finderror(double[i][j,1], a_slow) for j in range(len(double[i]))])\n",
    "    #u_s.append([0.01 for j in range(len(single[i]))])\n",
    "    #u_d.append([0.1 for j in range(len(double[i]))])\n",
    "    #for j in range(len(double[i])): double[i][j,0] = np.abs(double[i][j,0])\n",
    "\n",
    "single, double, u_s, u_d = np.array(single), np.array(double), np.array(u_s), np.array(u_d)\n",
    "\n",
    "wavelength = 650 * 10**(-9)     #650nm (red) light\n",
    "length_s = 0.783                #distance from the sensor aperture to the laser aperture, single slit\n",
    "length_d = 0.745                #distance from the sensor aperture to the laser aperture, double slit\n",
    "I_s = np.array([0.27158, 1.14082, 0.02716, 3.95709, 0.07018])       #maximum intensity in corresponding single data\n",
    "I_d = np.array([0.00766, 0.17700, 0.67458, 0.71563, 3.30389])       #maximum intensity in corresponding double data\n",
    "#offset_s = np.array([0.06889, 0.06900, 0.06694, 0.06705, 0.07578])  #offset of maximum in corresponding single data\n",
    "#offset_d = np.array([0.06939, 0.06755, 0.06939, 0.06817, 0.06928])  #offset of maximum in corresponding double data\n",
    "offset_s = np.array([0.0694213, 0.0694508, 0.0675186, 0.0757648, 0.0680048])\n",
    "offset_d = np.array([0.0697878, 0.0679757, 0.0693881, 0.0691909, 0.0692345])\n",
    "a_s = np.array([0.04, 0.08, 0.04, 0.16, 0.04])*10**(-3)\n",
    "a_d = np.array([[0.04, 0.25], [0.04, 0.25], [0.04, 0.25], [0.04, 0.50], [0.08, 0.25]])*10**(-3)"
   ]
  },
  {
   "cell_type": "code",
   "execution_count": 19,
   "metadata": {
    "scrolled": true
   },
   "outputs": [
    {
     "data": {
      "text/plain": [
       "<matplotlib.figure.Figure at 0x1511b9d6a0>"
      ]
     },
     "metadata": {},
     "output_type": "display_data"
    },
    {
     "data": {
      "text/plain": [
       "<matplotlib.figure.Figure at 0x1511b9d9e8>"
      ]
     },
     "metadata": {},
     "output_type": "display_data"
    },
    {
     "data": {
      "text/plain": [
       "<matplotlib.figure.Figure at 0x1508352ef0>"
      ]
     },
     "metadata": {},
     "output_type": "display_data"
    },
    {
     "data": {
      "text/plain": [
       "<matplotlib.figure.Figure at 0x150838ecc0>"
      ]
     },
     "metadata": {},
     "output_type": "display_data"
    },
    {
     "data": {
      "text/plain": [
       "<matplotlib.figure.Figure at 0x15083df080>"
      ]
     },
     "metadata": {},
     "output_type": "display_data"
    },
    {
     "data": {
      "text/plain": [
       "<matplotlib.figure.Figure at 0x150833b978>"
      ]
     },
     "metadata": {},
     "output_type": "display_data"
    },
    {
     "data": {
      "text/plain": [
       "<matplotlib.figure.Figure at 0x15083dfac8>"
      ]
     },
     "metadata": {},
     "output_type": "display_data"
    },
    {
     "data": {
      "text/plain": [
       "<matplotlib.figure.Figure at 0x1508367208>"
      ]
     },
     "metadata": {},
     "output_type": "display_data"
    },
    {
     "data": {
      "text/plain": [
       "<matplotlib.figure.Figure at 0x1508367ef0>"
      ]
     },
     "metadata": {},
     "output_type": "display_data"
    },
    {
     "data": {
      "text/plain": [
       "<matplotlib.figure.Figure at 0x15083e17f0>"
      ]
     },
     "metadata": {},
     "output_type": "display_data"
    }
   ],
   "source": [
    "#Graph the single slit diffraction patterns\n",
    "makegraph(single[0][:,0], single[0][:,1], single_title+', a=0.04mm', 'single4a4s100x')\n",
    "makegraph(single[1][:,0], single[1][:,1], single_title+', a=0.08mm', 'single8a4s100x')\n",
    "makegraph(single[2][:,0], single[2][:,1], single_title+', a=0.16mm', 'single16a4s1x')\n",
    "makegraph(single[3][:,0], single[3][:,1], single_title+', a=0.16mm', 'single16a4s100x')\n",
    "makegraph(single[4][:,0], single[4][:,1], single_title+', a=0.16mm', 'single16a6s10x')\n",
    "\n",
    "#Graph the double slit interference patterns\n",
    "makegraph(double[0][:,0], double[0][:,1], double_title+', a=0.04mm, d=0.25mm', 'double4a25d4s1x')\n",
    "makegraph(double[1][:,0], double[1][:,1], double_title+', a=0.04mm, d=0.25mm', 'double4a25d4s100x')\n",
    "makegraph(double[2][:,0], double[2][:,1], double_title+', a=0.04mm, d=0.25mm', 'double4a25d4s100x(2)')\n",
    "makegraph(double[3][:,0], double[3][:,1], double_title+', a=0.04mm, d=0.50mm', 'double4a50d4s100x')\n",
    "makegraph(double[4][:,0], double[4][:,1], double_title+', a=0.08mm, d=0.25mm', 'double8a25d4s100x')"
   ]
  },
  {
   "cell_type": "code",
   "execution_count": 23,
   "metadata": {},
   "outputs": [
    {
     "name": "stdout",
     "output_type": "stream",
     "text": [
      "a:\n",
      " [[3.96263355e-05]\n",
      " [7.70908140e-05]\n",
      " [5.09016876e-05]\n",
      " [1.28482718e-04]\n",
      " [4.22665641e-05]] \n",
      "\n",
      " pcov:\n",
      " [[[1.38856974e-15]]\n",
      "\n",
      " [[3.74517430e-15]]\n",
      "\n",
      " [[2.67663069e-13]]\n",
      "\n",
      " [[1.65211491e-14]]\n",
      "\n",
      " [[2.23980864e-14]]]\n",
      "\n",
      "\n",
      "a, d:\n",
      " [[1.64230615e-03 2.43062176e-03]\n",
      " [3.52561089e-05 2.41683059e-04]\n",
      " [3.43177648e-05 2.50999989e-04]\n",
      " [3.48854382e-05 4.99322881e-04]\n",
      " [7.23724395e-05 2.48022070e-04]] \n",
      "\n",
      " pcov:\n",
      " [[[ 2.67374112e-07  5.50032540e-08]\n",
      "  [ 5.50032540e-08  4.03959421e-07]]\n",
      "\n",
      " [[ 9.17544632e-14  1.27430744e-15]\n",
      "  [ 1.27430744e-15  9.27472208e-14]]\n",
      "\n",
      " [[ 8.98140211e-15  1.78663880e-17]\n",
      "  [ 1.78663880e-17  9.95556664e-15]]\n",
      "\n",
      " [[ 1.12030292e-14 -6.75120680e-16]\n",
      "  [-6.75120680e-16  1.45126814e-14]]\n",
      "\n",
      " [[ 1.60018119e-14  1.47242062e-15]\n",
      "  [ 1.47242062e-15  2.32307533e-14]]]\n"
     ]
    }
   ],
   "source": [
    "#Setting up constants for curve fit analysis\n",
    "popt_s, pcov_s = [0] * 5, [0] * 5\n",
    "popt_d, pcov_d = [0] * 5, [0] * 5\n",
    "\n",
    "for i in range(5): \n",
    "    I, offset, length = I_s[i], offset_s[i], length_s\n",
    "    popt_s[i], pcov_s[i] = curve_fit(intensity_s, single[i][:,0], single[i][:,1], p0=a_s[i], sigma=u_s[i])\n",
    "    I, offset, length = I_d[i], offset_d[i], length_d\n",
    "    popt_d[i], pcov_d[i] = curve_fit(intensity_d, double[i][:,0], double[i][:,1], p0=a_d[i], sigma=u_d[i])\n",
    "    \n",
    "popt_s, pcov_s = np.array(popt_s), np.array(pcov_s)\n",
    "popt_d, pcov_d = np.array(popt_d), np.array(pcov_d)\n",
    "\n",
    "print('a:\\n', popt_s, '\\n\\n', 'pcov:\\n', pcov_s)\n",
    "print('\\n')\n",
    "print('a, d:\\n', popt_d, '\\n\\n', 'pcov:\\n', pcov_d)"
   ]
  },
  {
   "cell_type": "code",
   "execution_count": 8,
   "metadata": {},
   "outputs": [
    {
     "data": {
      "text/plain": [
       "<matplotlib.figure.Figure at 0x15083e2128>"
      ]
     },
     "metadata": {},
     "output_type": "display_data"
    },
    {
     "data": {
      "text/plain": [
       "<matplotlib.figure.Figure at 0x15083e2f60>"
      ]
     },
     "metadata": {},
     "output_type": "display_data"
    },
    {
     "data": {
      "text/plain": [
       "<matplotlib.figure.Figure at 0x15119c2978>"
      ]
     },
     "metadata": {},
     "output_type": "display_data"
    },
    {
     "data": {
      "text/plain": [
       "<matplotlib.figure.Figure at 0x1511b9da20>"
      ]
     },
     "metadata": {},
     "output_type": "display_data"
    },
    {
     "data": {
      "text/plain": [
       "<matplotlib.figure.Figure at 0x15082e8b38>"
      ]
     },
     "metadata": {},
     "output_type": "display_data"
    },
    {
     "data": {
      "text/plain": [
       "<matplotlib.figure.Figure at 0x15083f35c0>"
      ]
     },
     "metadata": {},
     "output_type": "display_data"
    },
    {
     "data": {
      "text/plain": [
       "<matplotlib.figure.Figure at 0x15082cbda0>"
      ]
     },
     "metadata": {},
     "output_type": "display_data"
    },
    {
     "data": {
      "text/plain": [
       "<matplotlib.figure.Figure at 0x15120c4c18>"
      ]
     },
     "metadata": {},
     "output_type": "display_data"
    },
    {
     "data": {
      "text/plain": [
       "<matplotlib.figure.Figure at 0x1508387cf8>"
      ]
     },
     "metadata": {},
     "output_type": "display_data"
    },
    {
     "data": {
      "text/plain": [
       "<matplotlib.figure.Figure at 0x15082ad198>"
      ]
     },
     "metadata": {},
     "output_type": "display_data"
    }
   ],
   "source": [
    "#Graph the single slit data with best fit\n",
    "makegraphfit(0, single_title+', a=0.04mm', 'single4a4s100xfit', 'single', 0.04*10**(-3), u=u_s[0])\n",
    "makegraphfit(1, single_title+', a=0.08mm', 'single8a4s100xfit', 'single', 0.08*10**(-3), u=u_s[1])\n",
    "makegraphfit(2, single_title+', a=0.16mm', 'single16a4s1xfit', 'single', 0.04*10**(-3), u=u_s[2])\n",
    "makegraphfit(3, single_title+', a=0.16mm', 'single16a4s100xfit', 'single', 0.16*10**(-3), u=u_s[3])\n",
    "makegraphfit(4, single_title+', a=0.16mm', 'single16a6s10xfit', 'single', 0.04*10**(-3), u=u_s[4])\n",
    "\n",
    "#Graph the double slit data with best fit\n",
    "makegraphfit(0, double_title+', a=0.04mm, d=0.25mm', 'double4a25d4s1xfit', 'double', (0.00004, 0.00025), u=u_d[0])\n",
    "makegraphfit(1, double_title+', a=0.04mm, d=0.25mm', 'double4a25d4s100xfit', 'double', (0.00004, 0.00025), u=u_d[1])\n",
    "makegraphfit(2, double_title+', a=0.04mm, d=0.25mm', 'double4a25d4s100x(2)fit', 'double', (0.00004, 0.00025), u=u_d[2])\n",
    "makegraphfit(3, double_title+', a=0.04mm, d=0.50mm', 'double4a50d4s100xfit', 'double', (0.00004, 0.00050), u=u_d[3])\n",
    "makegraphfit(4, double_title+', a=0.08mm, d=0.25mm', 'double8a25d4s100xfit', 'double', (0.00008, 0.00025), u=u_d[4])"
   ]
  },
  {
   "cell_type": "code",
   "execution_count": 24,
   "metadata": {},
   "outputs": [
    {
     "name": "stdout",
     "output_type": "stream",
     "text": [
      "188442.16865218425 \n",
      " 218160.45674739676 \n",
      "\n",
      "574843.3766478925 \n",
      " 3282607.0126302615 \n",
      "\n",
      "217926.0438812602 \n",
      " 3648071.4853951517 \n",
      "\n",
      "6580313.46686415 \n",
      " 4645934.043086356 \n",
      "\n",
      "205219.18972215793 \n",
      " 6173936.027098538 \n",
      "\n"
     ]
    }
   ],
   "source": [
    "#Reduced chi squares\n",
    "for i in range(5): \n",
    "    N_s, N_d, n_s, n_d = len(single[i]), len(double[i]), 1, 2\n",
    "    I, offset, length = I_s[i], offset_s[i], length_s\n",
    "    chi_s = np.sum([((single[i][j,1] - intensity_s(single[i][j,0], a_s[i]))/u_s[i][j])**2 for j in range(N_s)])/(N_s - n_s)\n",
    "    I, offset, length = I_d[i], offset_d[i], length_d\n",
    "    chi_d = np.sum([((double[i][j,1] - intensity_d(double[i][j,0], a_d[i][0], a_d[i][1]))/u_d[i][j])**2 for j in range(N_d)])/(N_d - n_d)\n",
    "    print(chi_s,'\\n',chi_d,'\\n')"
   ]
  },
  {
   "cell_type": "code",
   "execution_count": null,
   "metadata": {},
   "outputs": [],
   "source": []
  }
 ],
 "metadata": {
  "kernelspec": {
   "display_name": "Python 3",
   "language": "python",
   "name": "python3"
  },
  "language_info": {
   "codemirror_mode": {
    "name": "ipython",
    "version": 3
   },
   "file_extension": ".py",
   "mimetype": "text/x-python",
   "name": "python",
   "nbconvert_exporter": "python",
   "pygments_lexer": "ipython3",
   "version": "3.6.4"
  }
 },
 "nbformat": 4,
 "nbformat_minor": 2
}
