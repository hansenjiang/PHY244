{
 "cells": [
  {
   "cell_type": "code",
   "execution_count": 1,
   "metadata": {},
   "outputs": [],
   "source": [
    "import numpy as np\n",
    "from matplotlib import pyplot as plt\n",
    "from scipy.optimize import curve_fit\n",
    "from decimal import Decimal"
   ]
  },
  {
   "cell_type": "code",
   "execution_count": 2,
   "metadata": {},
   "outputs": [],
   "source": [
    "#Define graphing constants\n",
    "page = (12,6)\n",
    "title_s = 'Light Intensity of Single Slit Diffraction Pattern'\n",
    "title_d = 'Light Intensity of Double Slit Interference Pattern'"
   ]
  },
  {
   "cell_type": "code",
   "execution_count": 3,
   "metadata": {},
   "outputs": [],
   "source": [
    "#Calculate accurate floating point uncertainties using the Decimal module\n",
    "\n",
    "#Uncertainty percentages recorded from \n",
    "#https://www.pasco.com/file_downloads/Downloads_Manuals/PASPORT-High-Sensitivity-Light-Sensor-Manual-PS-2176.pdf\n",
    "a_slow = 0.0001\n",
    "\n",
    "''' Finds the first significant digit in Decimal object n.\n",
    "'''\n",
    "def firstdigit(n):\n",
    "    abs_n = abs(n)\n",
    "    place = 0\n",
    "    if (abs_n >= Decimal('1.0')):\n",
    "        while (abs_n >= Decimal('10.0')):\n",
    "            abs_n = Decimal.shift(abs_n, -1)\n",
    "            place -= 1\n",
    "    else:\n",
    "        while (abs_n < Decimal('1.0')):\n",
    "            abs_n = Decimal.shift(abs_n, 1)\n",
    "            place += 1\n",
    "    return round(n, place)\n",
    "\n",
    "''' Finds the last significant digit in Decimal object n.\n",
    "'''\n",
    "def lastdigit(n):\n",
    "    place = 0\n",
    "    while (n % Decimal('1.0') == Decimal('0.0')):\n",
    "        n = Decimal.shift(n, -1)\n",
    "    while (n % Decimal('1.0') != Decimal('0.0')):\n",
    "        n = Decimal.shift(n, 1)\n",
    "        place -= 1\n",
    "    return place\n",
    "\n",
    "''' Calculates the maximum uncertainty by taking the larger between the error of\n",
    "    accuracy and the error of precision.\n",
    "    Error of accuracy is rounded to one significant digit.\n",
    "'''\n",
    "def finderror(x, a):\n",
    "    dec_x = Decimal(str(np.abs(x)))\n",
    "    dec_a = Decimal(str(a))\n",
    "    err_a = firstdigit(dec_x * dec_a)\n",
    "    err_p = Decimal('1.0') * Decimal(str(10.0**(lastdigit(dec_x))))\n",
    "    return (float)(max(err_a, err_p))"
   ]
  },
  {
   "cell_type": "code",
   "execution_count": 45,
   "metadata": {},
   "outputs": [],
   "source": [
    "''' Model function for single slit intensity pattern\n",
    "'''\n",
    "def intensity_s(x, I, offset, a):\n",
    "    phi = (np.pi * a)/wavelength * ((x + offset)/np.sqrt((x + offset)**2 + length_s**2))\n",
    "    return I * (np.sin(phi)/phi)**2\n",
    "\n",
    "''' Model function for double slit diffraction pattern\n",
    "'''\n",
    "def intensity_d(x, I, offset, a, d):\n",
    "    phi_s = (np.pi * a)/wavelength * ((x + offset)/np.sqrt((x + offset)**2 + length_d**2))\n",
    "    phi_d = (np.pi * d)/wavelength * ((x + offset)/np.sqrt((x + offset)**2 + length_d**2))\n",
    "    return I * (np.cos(phi_d))**2 * (np.sin(phi_s)/phi_s)**2\n",
    "\n",
    "''' Saves a graph to directory/filename.png with standard options.\n",
    "'''\n",
    "def makegraph(x, y, title, filename, color='red', linewidth=0.4, figsize=page, xlabel='Sensor Position (m)',\n",
    "              ylabel='Light Intensity (V)', directory='graphs/', show_legend=False, label=None,\n",
    "              plotsecond=False, secondset=(None, None), secondlabel=None, u=None):\n",
    "    plt.figure(figsize=figsize)\n",
    "    if u == None: plt.plot(x, y, color=color, linewidth=linewidth, label=label)\n",
    "    else: plt.errorbar(x, y, yerr=u, ecolor=color, elinewidth=0.5, capthick=0.5, capsize=2.0, fmt='none', label=label)\n",
    "    if plotsecond: plt.plot(secondset[0], secondset[1], color='#197cff', linewidth=linewidth+1.0, label=secondlabel)\n",
    "    plt.xlabel(xlabel)\n",
    "    plt.ylabel(ylabel)\n",
    "    plt.title(title)\n",
    "    if show_legend: plt.legend()\n",
    "    plt.savefig(directory+filename+'.png', bbox_inches='tight')\n",
    "    plt.clf()\n",
    "\n",
    "''' Calls makegraph with optimum values and best fit data\n",
    "'''\n",
    "def makegraphfit(i, title, filename, which, popt, figsize=page, u=None):\n",
    "    space = np.linspace(-0.13, 0.0, 1000)\n",
    "    if (which == 'single'):\n",
    "        makegraph(single[i][:,0], single[i][:,1], title, filename, \n",
    "                  plotsecond=True, secondset=(space, intensity_s(space, popt[0], popt[1], popt[2])), \n",
    "                  show_legend=True, label='data', secondlabel='best fit', figsize=figsize, u=u)\n",
    "    else:\n",
    "        makegraph(double[i][:,0], double[i][:,1], title, filename,\n",
    "                  plotsecond=True, secondset=(space, intensity_d(space, popt[0], popt[1], popt[2], popt[3])), \n",
    "                  show_legend=True, label='data', secondlabel='best fit', figsize=figsize, u=u)"
   ]
  },
  {
   "cell_type": "code",
   "execution_count": 47,
   "metadata": {},
   "outputs": [],
   "source": [
    "#Load the collected data\n",
    "single, double, u_s, u_d = [], [], [], []\n",
    "\n",
    "single.append(np.loadtxt('data/single4a4s100x.txt', skiprows=2))\n",
    "single.append(np.loadtxt('data/single8a4s100x.txt', skiprows=2))\n",
    "single.append(np.loadtxt('data/single16a4s1x.txt', skiprows=2))\n",
    "single.append(np.loadtxt('data/single16a4s100x.txt', skiprows=2))\n",
    "single.append(np.loadtxt('data/single16a6s10x.txt', skiprows=2))\n",
    "\n",
    "double.append(np.loadtxt('data/double4a25d4s1x.txt', skiprows=2))\n",
    "double.append(np.loadtxt('data/double4a25d4s100x.txt', skiprows=2))\n",
    "double.append(np.loadtxt('data/double4a25d4s100x2.txt', skiprows=2))\n",
    "double.append(np.loadtxt('data/double4a50d4s100x.txt', skiprows=2))\n",
    "double.append(np.loadtxt('data/double8a25d4s100x.txt', skiprows=2))\n",
    "\n",
    "name_s = ['s4a4s100x', 's8a4s100x', 's16a4s1x', 's16a4s100x', 's16a6s10x']\n",
    "name_d = ['d4a25d4s1x', 'd4a25d4s100x', 'd4a25d4s100x2', 'd4a50d4s100x', 'd8a25d4s100x']\n",
    "\n",
    "for i in range(5):\n",
    "    while (Decimal((float)(single[i][0][0])) == Decimal('0.0')): single[i] = np.delete(single[i], (0), axis=0)\n",
    "    while (Decimal((float)(double[i][0][0])) == Decimal('0.0')): double[i] = np.delete(double[i], (0), axis=0)\n",
    "    single, double = np.array(single), np.array(double)\n",
    "    \n",
    "for i in range(5): \n",
    "    u_s.append([finderror(single[i][j,1], a_slow) for j in range(len(single[i]))])\n",
    "    u_d.append([finderror(double[i][j,1], a_slow) for j in range(len(double[i]))])\n",
    "\n",
    "single, double, u_s, u_d = np.array(single), np.array(double), np.array(u_s), np.array(u_d)\n",
    "\n",
    "wavelength = 650 * 10**(-9)     #650nm (red) light\n",
    "length_s = 0.783                #distance from the sensor aperture to the laser aperture, single slit\n",
    "length_d = 0.750                #distance from the sensor aperture to the laser aperture, double slit\n",
    "I_s = np.array([0.27158, 1.14082, 0.02716, 3.95709, 0.07018])       #maximum intensity in corresponding single data\n",
    "I_d = np.array([0.00766, 0.17700, 0.67458, 0.71563, 3.30389])       #maximum intensity in corresponding double data\n",
    "offset_s = np.array([0.0694213, 0.0694508, 0.0675186, 0.0757648, 0.0680048]) #initial guess for positional offset\n",
    "offset_d = np.array([0.0697878, 0.0679757, 0.0693881, 0.0691909, 0.0692345]) #initial guess for positional offset\n",
    "a_s = np.array([0.04, 0.08, 0.04, 0.16, 0.04])*10**(-3)\n",
    "a_d = np.array([[0.04, 0.25], [0.04, 0.25], [0.04, 0.25], [0.04, 0.50], [0.08, 0.25]])*10**(-3)\n",
    "\n",
    "p0_s = np.array([(I_s[i], offset_s[i], a_s[i]) for i in range(5)])\n",
    "p0_d = np.array([(I_d[i], offset_d[i], a_d[i,0], a_d[i,1]) for i in range(5)])"
   ]
  },
  {
   "cell_type": "code",
   "execution_count": 14,
   "metadata": {},
   "outputs": [
    {
     "name": "stdout",
     "output_type": "stream",
     "text": [
      "0.2639089841963083 +- 0.00027071658627899557 V\n",
      "0.06950078243926447 +- 5.754309103543517e-06 m\n",
      "0.039174069361197474 +- 4.0837353549787966e-05 mm\n",
      "ratio: 60.26779901722688 +- 0.06282669776890455 \n",
      "\n",
      "1.1410742774385587 +- 0.0006485036954076051 V\n",
      "0.06943692649793048 +- 1.6108692840230277e-06 m\n",
      "0.07735735875703417 +- 4.393061709901169e-05 mm\n",
      "ratio: 119.01132116466795 +- 0.0675855647677103 \n",
      "\n",
      "0.021630451677246563 +- 0.0002832059654413147 V\n",
      "0.06767908638826024 +- 6.512171301405537e-05 m\n",
      "0.04413261628544274 +- 0.0005842714082355737 mm\n",
      "ratio: 67.89633274683499 +- 0.8988790895931903 \n",
      "\n",
      "3.9209157801681824 +- 0.0030092293767406218 V\n",
      "0.07588761508626021 +- 1.4080398918559392e-06 m\n",
      "0.12116646051177822 +- 9.391516783323635e-05 mm\n",
      "ratio: 186.40993924888957 +- 0.14448487358959436 \n",
      "\n",
      "0.06432467976456631 +- 0.00026642852612986583 V\n",
      "0.06800455792582871 +- 2.254056599993574e-05 m\n",
      "0.040315761101282224 +- 0.00016927154754634306 mm\n",
      "ratio: 62.0242478481265 +- 0.2604177654559124 \n",
      "\n",
      "0.0005844458574742938 +- 0.0007044737116357588 V\n",
      "0.0694691036516386 +- 0.0005252985599140227 m\n",
      "0.09100281880872882 +- 0.10944652204120131 mm\n",
      "0.2615223154361336 +- 0.09441881159551858 mm\n",
      "ratio: 140.00433662881358 +- 168.37926467877122 \n",
      "\n",
      "0.18711755597934562 +- 0.0009399639367571411 V\n",
      "0.06756278476013185 +- 2.2787274483816014e-06 m\n",
      "0.033872274043699885 +- 0.00017340173429137497 mm\n",
      "0.2540206709966684 +- 0.00014841268303485323 mm\n",
      "ratio: 52.11119083646136 +- 0.2667718989098076 \n",
      "\n",
      "0.6746938820190963 +- 0.002052517032337066 V\n",
      "0.06943481106401089 +- 1.3850324020797624e-06 m\n",
      "0.03486212113667286 +- 0.00010780769725676623 mm\n",
      "0.25315611749800065 +- 9.241568694471625e-05 mm\n",
      "ratio: 53.634032517958246 +- 0.16585799577964033 \n",
      "\n",
      "0.7864271249426156 +- 0.0035851487601807684 V\n",
      "0.06916256733495843 +- 1.038419932044798e-06 m\n",
      "0.03663053751956688 +- 0.00016989746804811948 mm\n",
      "0.5042091500912025 +- 0.00014530375048178831 mm\n",
      "ratio: 56.35467310702597 +- 0.26138072007402996 \n",
      "\n",
      "3.439868022054996 +- 0.00713897038116217 V\n",
      "0.06927557115423799 +- 9.598844246185818e-07 m\n",
      "0.07370363235396077 +- 0.00015295540225050146 mm\n",
      "0.24771407768458392 +- 0.00013162100818166255 mm\n",
      "ratio: 113.3902036214781 +- 0.23531600346230994 \n",
      "\n"
     ]
    }
   ],
   "source": [
    "#Setting up constants for curve fit analysis\n",
    "popt_s, pcov_s = [0] * 5, [0] * 5\n",
    "popt_d, pcov_d = [0] * 5, [0] * 5\n",
    "\n",
    "for i in range(5):\n",
    "    popt_s[i], pcov_s[i] = curve_fit(intensity_s, single[i][:,0], single[i][:,1], p0=p0_s[i], sigma=u_s[i])\n",
    "    popt_d[i], pcov_d[i] = curve_fit(intensity_d, double[i][:,0], double[i][:,1], p0=p0_d[i], sigma=u_d[i])\n",
    "    \n",
    "popt_s, pcov_s = np.array(popt_s), np.array(pcov_s)\n",
    "popt_d, pcov_d = np.array(popt_d), np.array(pcov_d)\n",
    "\n",
    "np.set_printoptions(suppress=True)\n",
    "for i in range(5):\n",
    "    print(popt_s[i,0],'+-',np.sqrt(pcov_s[i][0,0]),'V')\n",
    "    print(popt_s[i,1],'+-',np.sqrt(pcov_s[i][1,1]),'m')\n",
    "    print(popt_s[i,2]*10**3,'+-',np.sqrt(pcov_s[i][2,2])*10**3,'mm')\n",
    "    print('ratio:',popt_s[i,2]/wavelength,'+-',np.sqrt(pcov_s[i][2,2])/wavelength,'\\n')\n",
    "for i in range(5):\n",
    "    print(popt_d[i,0],'+-',np.sqrt(pcov_d[i][0,0]),'V')\n",
    "    print(popt_d[i,1],'+-',np.sqrt(pcov_d[i][1,1]),'m')\n",
    "    print(popt_d[i,2]*10**3,'+-',np.sqrt(pcov_d[i][2,2])*10**3,'mm')\n",
    "    print(popt_d[i,3]*10**3,'+-',np.sqrt(pcov_d[i][3,3])*10**3,'mm')\n",
    "    print('ratio:',popt_d[i,2]/wavelength,'+-',np.sqrt(pcov_d[i][2,2])/wavelength,'\\n')"
   ]
  },
  {
   "cell_type": "code",
   "execution_count": 48,
   "metadata": {
    "scrolled": true
   },
   "outputs": [
    {
     "name": "stderr",
     "output_type": "stream",
     "text": [
      "/Users/hansenHansen/anaconda3/lib/python3.6/site-packages/matplotlib/pyplot.py:528: RuntimeWarning: More than 20 figures have been opened. Figures created through the pyplot interface (`matplotlib.pyplot.figure`) are retained until explicitly closed and may consume too much memory. (To control this warning, see the rcParam `figure.max_open_warning`).\n",
      "  max_open_warning, RuntimeWarning)\n"
     ]
    },
    {
     "data": {
      "text/plain": [
       "<matplotlib.figure.Figure at 0x1081b7d68>"
      ]
     },
     "metadata": {},
     "output_type": "display_data"
    },
    {
     "data": {
      "text/plain": [
       "<matplotlib.figure.Figure at 0x10e514470>"
      ]
     },
     "metadata": {},
     "output_type": "display_data"
    },
    {
     "data": {
      "text/plain": [
       "<matplotlib.figure.Figure at 0x10824b710>"
      ]
     },
     "metadata": {},
     "output_type": "display_data"
    },
    {
     "data": {
      "text/plain": [
       "<matplotlib.figure.Figure at 0x1081ae198>"
      ]
     },
     "metadata": {},
     "output_type": "display_data"
    },
    {
     "data": {
      "text/plain": [
       "<matplotlib.figure.Figure at 0x10efbb908>"
      ]
     },
     "metadata": {},
     "output_type": "display_data"
    },
    {
     "data": {
      "text/plain": [
       "<matplotlib.figure.Figure at 0x1081eaf98>"
      ]
     },
     "metadata": {},
     "output_type": "display_data"
    },
    {
     "data": {
      "text/plain": [
       "<matplotlib.figure.Figure at 0x10e09cda0>"
      ]
     },
     "metadata": {},
     "output_type": "display_data"
    },
    {
     "data": {
      "text/plain": [
       "<matplotlib.figure.Figure at 0x10e09c898>"
      ]
     },
     "metadata": {},
     "output_type": "display_data"
    },
    {
     "data": {
      "text/plain": [
       "<matplotlib.figure.Figure at 0x10e483c50>"
      ]
     },
     "metadata": {},
     "output_type": "display_data"
    },
    {
     "data": {
      "text/plain": [
       "<matplotlib.figure.Figure at 0x10e4832b0>"
      ]
     },
     "metadata": {},
     "output_type": "display_data"
    },
    {
     "data": {
      "text/plain": [
       "<matplotlib.figure.Figure at 0x10e7cbe10>"
      ]
     },
     "metadata": {},
     "output_type": "display_data"
    },
    {
     "data": {
      "text/plain": [
       "<matplotlib.figure.Figure at 0x10df66320>"
      ]
     },
     "metadata": {},
     "output_type": "display_data"
    },
    {
     "data": {
      "text/plain": [
       "<matplotlib.figure.Figure at 0x10e214128>"
      ]
     },
     "metadata": {},
     "output_type": "display_data"
    },
    {
     "data": {
      "text/plain": [
       "<matplotlib.figure.Figure at 0x10e345278>"
      ]
     },
     "metadata": {},
     "output_type": "display_data"
    },
    {
     "data": {
      "text/plain": [
       "<matplotlib.figure.Figure at 0x10814bd30>"
      ]
     },
     "metadata": {},
     "output_type": "display_data"
    },
    {
     "data": {
      "text/plain": [
       "<matplotlib.figure.Figure at 0x10e471b38>"
      ]
     },
     "metadata": {},
     "output_type": "display_data"
    },
    {
     "data": {
      "text/plain": [
       "<matplotlib.figure.Figure at 0x10e5144a8>"
      ]
     },
     "metadata": {},
     "output_type": "display_data"
    },
    {
     "data": {
      "text/plain": [
       "<matplotlib.figure.Figure at 0x10e1ec978>"
      ]
     },
     "metadata": {},
     "output_type": "display_data"
    },
    {
     "data": {
      "text/plain": [
       "<matplotlib.figure.Figure at 0x10ef12198>"
      ]
     },
     "metadata": {},
     "output_type": "display_data"
    },
    {
     "data": {
      "text/plain": [
       "<matplotlib.figure.Figure at 0x10e199198>"
      ]
     },
     "metadata": {},
     "output_type": "display_data"
    },
    {
     "data": {
      "text/plain": [
       "<matplotlib.figure.Figure at 0x10f296a58>"
      ]
     },
     "metadata": {},
     "output_type": "display_data"
    },
    {
     "data": {
      "text/plain": [
       "<matplotlib.figure.Figure at 0x10e1fe4e0>"
      ]
     },
     "metadata": {},
     "output_type": "display_data"
    },
    {
     "data": {
      "text/plain": [
       "<matplotlib.figure.Figure at 0x10e7b6358>"
      ]
     },
     "metadata": {},
     "output_type": "display_data"
    },
    {
     "data": {
      "text/plain": [
       "<matplotlib.figure.Figure at 0x10ef9c5f8>"
      ]
     },
     "metadata": {},
     "output_type": "display_data"
    },
    {
     "data": {
      "text/plain": [
       "<matplotlib.figure.Figure at 0x1082119e8>"
      ]
     },
     "metadata": {},
     "output_type": "display_data"
    },
    {
     "data": {
      "text/plain": [
       "<matplotlib.figure.Figure at 0x10ef96748>"
      ]
     },
     "metadata": {},
     "output_type": "display_data"
    },
    {
     "data": {
      "text/plain": [
       "<matplotlib.figure.Figure at 0x10ef168d0>"
      ]
     },
     "metadata": {},
     "output_type": "display_data"
    },
    {
     "data": {
      "text/plain": [
       "<matplotlib.figure.Figure at 0x10e3eaa58>"
      ]
     },
     "metadata": {},
     "output_type": "display_data"
    },
    {
     "data": {
      "text/plain": [
       "<matplotlib.figure.Figure at 0x108121fd0>"
      ]
     },
     "metadata": {},
     "output_type": "display_data"
    },
    {
     "data": {
      "text/plain": [
       "<matplotlib.figure.Figure at 0x10822e588>"
      ]
     },
     "metadata": {},
     "output_type": "display_data"
    },
    {
     "data": {
      "text/plain": [
       "<matplotlib.figure.Figure at 0x10e325748>"
      ]
     },
     "metadata": {},
     "output_type": "display_data"
    },
    {
     "data": {
      "text/plain": [
       "<matplotlib.figure.Figure at 0x10e4f6160>"
      ]
     },
     "metadata": {},
     "output_type": "display_data"
    },
    {
     "data": {
      "text/plain": [
       "<matplotlib.figure.Figure at 0x151357c630>"
      ]
     },
     "metadata": {},
     "output_type": "display_data"
    },
    {
     "data": {
      "text/plain": [
       "<matplotlib.figure.Figure at 0x10e7c4f60>"
      ]
     },
     "metadata": {},
     "output_type": "display_data"
    },
    {
     "data": {
      "text/plain": [
       "<matplotlib.figure.Figure at 0x10e3405f8>"
      ]
     },
     "metadata": {},
     "output_type": "display_data"
    },
    {
     "data": {
      "text/plain": [
       "<matplotlib.figure.Figure at 0x10df66128>"
      ]
     },
     "metadata": {},
     "output_type": "display_data"
    },
    {
     "data": {
      "text/plain": [
       "<matplotlib.figure.Figure at 0x10e345668>"
      ]
     },
     "metadata": {},
     "output_type": "display_data"
    },
    {
     "data": {
      "text/plain": [
       "<matplotlib.figure.Figure at 0x10ef96390>"
      ]
     },
     "metadata": {},
     "output_type": "display_data"
    },
    {
     "data": {
      "text/plain": [
       "<matplotlib.figure.Figure at 0x10e7a0358>"
      ]
     },
     "metadata": {},
     "output_type": "display_data"
    },
    {
     "data": {
      "text/plain": [
       "<matplotlib.figure.Figure at 0x10824d160>"
      ]
     },
     "metadata": {},
     "output_type": "display_data"
    },
    {
     "data": {
      "text/plain": [
       "<matplotlib.figure.Figure at 0x10ef47f28>"
      ]
     },
     "metadata": {},
     "output_type": "display_data"
    },
    {
     "data": {
      "text/plain": [
       "<matplotlib.figure.Figure at 0x10e1fedd8>"
      ]
     },
     "metadata": {},
     "output_type": "display_data"
    },
    {
     "data": {
      "text/plain": [
       "<matplotlib.figure.Figure at 0x108209ba8>"
      ]
     },
     "metadata": {},
     "output_type": "display_data"
    },
    {
     "data": {
      "text/plain": [
       "<matplotlib.figure.Figure at 0x10e2307b8>"
      ]
     },
     "metadata": {},
     "output_type": "display_data"
    },
    {
     "data": {
      "text/plain": [
       "<matplotlib.figure.Figure at 0x10e3e3c88>"
      ]
     },
     "metadata": {},
     "output_type": "display_data"
    },
    {
     "data": {
      "text/plain": [
       "<matplotlib.figure.Figure at 0x10e514d68>"
      ]
     },
     "metadata": {},
     "output_type": "display_data"
    },
    {
     "data": {
      "text/plain": [
       "<matplotlib.figure.Figure at 0x10df665c0>"
      ]
     },
     "metadata": {},
     "output_type": "display_data"
    },
    {
     "data": {
      "text/plain": [
       "<matplotlib.figure.Figure at 0x1081a9208>"
      ]
     },
     "metadata": {},
     "output_type": "display_data"
    },
    {
     "data": {
      "text/plain": [
       "<matplotlib.figure.Figure at 0x10e471fd0>"
      ]
     },
     "metadata": {},
     "output_type": "display_data"
    },
    {
     "data": {
      "text/plain": [
       "<matplotlib.figure.Figure at 0x10814b5c0>"
      ]
     },
     "metadata": {},
     "output_type": "display_data"
    }
   ],
   "source": [
    "page_small = (8.5,6)\n",
    "for i in range(5):\n",
    "    makegraph(single[i][:,0], single[i][:,1], title_s+', a='+str(a_s[i]*10**3)+'mm', name_s[i], figsize=page_small)\n",
    "    makegraph(single[i][:,0], single[i][:,1], title_s+', a='+str(a_s[i]*10**3)+'mm', name_s[i]+'e', u=u_s[i])\n",
    "    makegraphfit(i, title_s+', a='+str(a_s[i]*10**3)+'mm', name_s[i]+'f', 'single', popt_s[i], u=u_s[i])\n",
    "    makegraphfit(i, title_s+', a='+str(a_s[i]*10**3)+'mm', name_s[i]+'f2', 'single', popt_s[i], u=u_s[i], figsize=page_small)\n",
    "    makegraphfit(i, title_s+', a='+str(a_s[i]*10**3)+'mm', name_s[i]+'f3', 'single', popt_s[i])\n",
    "    makegraph(double[i][:,0], double[i][:,1], title_d+', a='+str(a_d[i,0]*10**3)+'mm, d='+str(a_d[i,1]*10**3)+'mm', name_d[i], figsize=page_small)\n",
    "    makegraph(double[i][:,0], double[i][:,1], title_d+', a='+str(a_d[i,0]*10**3)+'mm, d='+str(a_d[i,1]*10**3)+'mm', name_d[i]+'e', u=u_d[i])\n",
    "    makegraphfit(i, title_d+', a='+str(a_d[i,0]*10**3)+'mm, d='+str(a_d[i,1]*10**3)+'mm', name_d[i]+'f', 'double', popt_d[i], u=u_d[i])\n",
    "    makegraphfit(i, title_d+', a='+str(a_d[i,0]*10**3)+'mm, d='+str(a_d[i,1]*10**3)+'mm', name_d[i]+'f2', 'double', popt_d[i], u=u_d[i], figsize=page_small)\n",
    "    makegraphfit(i, title_d+', a='+str(a_d[i,0]*10**3)+'mm, d='+str(a_d[i,1]*10**3)+'mm', name_d[i]+'f3', 'double', popt_d[i])\n",
    "    "
   ]
  },
  {
   "cell_type": "code",
   "execution_count": 49,
   "metadata": {},
   "outputs": [
    {
     "name": "stdout",
     "output_type": "stream",
     "text": [
      "0.25047955933166877 \n",
      " 0.013996439170772436 \n",
      "\n",
      "0.7157781520399333 \n",
      " 0.06712440390678698 \n",
      "\n",
      "0.257871562373742 \n",
      " 0.3072174824712316 \n",
      "\n",
      "10.687834042754115 \n",
      " 0.9196243049767096 \n",
      "\n",
      "0.2511700270463187 \n",
      " 1.7483707288293528 \n",
      "\n"
     ]
    }
   ],
   "source": [
    "#Reduced chi squares\n",
    "for i in range(5): \n",
    "    N_s, N_d, n_s, n_d = len(single[i]), len(double[i]), 3, 4\n",
    "    func_s = intensity_s(single[i][:,0], popt_s[i,0], popt_s[i,1], popt_s[i,2])\n",
    "    func_d = intensity_d(double[i][:,0], popt_d[i,0], popt_d[i,1], popt_d[i,2], popt_d[i,3])\n",
    "    chi_s = np.sum([((single[i][:,1] - func_s)/u_s[i])**2])/(N_s - n_s)\n",
    "    chi_d = np.sum([((double[i][:,1] - func_d)/u_d[i])**2])/(N_d - n_d)\n",
    "    print(chi_s,'\\n',chi_d,'\\n')"
   ]
  }
 ],
 "metadata": {
  "kernelspec": {
   "display_name": "Python 3",
   "language": "python",
   "name": "python3"
  },
  "language_info": {
   "codemirror_mode": {
    "name": "ipython",
    "version": 3
   },
   "file_extension": ".py",
   "mimetype": "text/x-python",
   "name": "python",
   "nbconvert_exporter": "python",
   "pygments_lexer": "ipython3",
   "version": "3.6.4"
  }
 },
 "nbformat": 4,
 "nbformat_minor": 2
}
