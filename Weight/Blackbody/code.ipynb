{
 "cells": [
  {
   "cell_type": "code",
   "execution_count": 15,
   "metadata": {},
   "outputs": [],
   "source": [
    "import numpy as np\n",
    "from matplotlib import pyplot as plt\n",
    "from scipy.optimize import curve_fit\n",
    "from decimal import Decimal\n",
    "\n",
    "#Graphing variables\n",
    "page_width = (8.5, 5)"
   ]
  },
  {
   "cell_type": "code",
   "execution_count": 16,
   "metadata": {},
   "outputs": [],
   "source": [
    "#Calculate accurate floating point uncertainties using the Decimal module\n",
    "\n",
    "#Uncertainty percentages recorded from \n",
    "#ftp://ftp.pasco.com/Support/Documents/english/CI/CI-6630/012-08541b.pdf\n",
    "a_sensor = 0.0001\n",
    "\n",
    "''' Finds the first significant digit in Decimal object n.\n",
    "'''\n",
    "def firstdigit(n):\n",
    "    abs_n = abs(n)\n",
    "    place = 0\n",
    "    if (abs_n >= Decimal('1.0')):\n",
    "        while (abs_n >= Decimal('10.0')):\n",
    "            abs_n = Decimal.shift(abs_n, -1)\n",
    "            place -= 1\n",
    "    else:\n",
    "        while (abs_n < Decimal('1.0')):\n",
    "            abs_n = Decimal.shift(abs_n, 1)\n",
    "            place += 1\n",
    "    return round(n, place)\n",
    "\n",
    "''' Finds the last significant digit in Decimal object n.\n",
    "'''\n",
    "def lastdigit(n):\n",
    "    place = 0\n",
    "    while (n % Decimal('1.0') == Decimal('0.0')):\n",
    "        n = Decimal.shift(n, -1)\n",
    "    while (n % Decimal('1.0') != Decimal('0.0')):\n",
    "        n = Decimal.shift(n, 1)\n",
    "        place -= 1\n",
    "    return place\n",
    "\n",
    "''' Calculates the maximum uncertainty by taking the larger between the error of\n",
    "    accuracy and the error of precision.\n",
    "    Error of accuracy is rounded to one significant digit.\n",
    "'''\n",
    "def finderror(x, a):\n",
    "    dec_x = Decimal(str(np.abs(x)))\n",
    "    dec_a = Decimal(str(a))\n",
    "    err_a = firstdigit(dec_x * dec_a)\n",
    "    err_p = Decimal('1.0') * Decimal(str(10.0**(lastdigit(dec_x))))\n",
    "    return (float)(max(err_a, err_p))"
   ]
  },
  {
   "cell_type": "code",
   "execution_count": 44,
   "metadata": {},
   "outputs": [
    {
     "data": {
      "text/plain": [
       "\" Model function for blackbody radiation, based on Wien's Law. \\n\""
      ]
     },
     "execution_count": 44,
     "metadata": {},
     "output_type": "execute_result"
    }
   ],
   "source": [
    "#Function definitions\n",
    "\n",
    "''' Plot a function, with optional parameters.\n",
    "'''\n",
    "def plot_function(data, weight, filename, title, directory='graphs/', figsize=page_width,\n",
    "                  plot_error=False, second_data=None, second_label=None):\n",
    "    plt.figure(figsize=figsize)\n",
    "    if plot_error:\n",
    "        plt.errorbar(data[:,0], data[:,1], yerr=weight, elinewidth=0.8, capthick=1.2, capsize=2.0, \n",
    "                     fmt='none', label='data')\n",
    "    else:\n",
    "        plt.plot(data[:,0], data[:,1], label='data')\n",
    "    if second_data: \n",
    "        plt.plot(second_data[0], second_data[1], label=second_label)\n",
    "        plt.legend()\n",
    "    plt.xlabel('Sensor Position (degrees)')\n",
    "    plt.ylabel('Light Intensity (Volts)')\n",
    "    plt.title(title)\n",
    "    plt.savefig(directory+filename+'.png', bbox_inches='tight')\n",
    "\n",
    "''' Finds the peaks of the data, assuming they are the two greatest values. Returns the angles at which they occur.\n",
    "'''\n",
    "def find_peaks(data):\n",
    "    max1, max2 = 0, 0\n",
    "    for point in data:\n",
    "        if point[0] > 10 and point[0] < 30 and point[1] > max1: \n",
    "            max1 = point[1]\n",
    "            angle1 = point[0]\n",
    "    for point in data:\n",
    "        if point[0] > 60 and point[0] < 75 and point[1] > max2: \n",
    "            max2 = point[1]\n",
    "            angle2 = point[0]\n",
    "    return (angle1, angle2)\n",
    "\n",
    "''' Model function for blackbody radiation, based on Wien's Law. \n",
    "'''"
   ]
  },
  {
   "cell_type": "code",
   "execution_count": 23,
   "metadata": {},
   "outputs": [],
   "source": [
    "#Load the data\n",
    "directory = 'data/'\n",
    "filenames = ['4.0V0.384A', '4.5V0.412A', '5.0V0.437A', '5.5V0.463A', '6.0V0.481A', '6.5V0.508A', \n",
    "             '7.0V0.531A', '7.5V0.549A', '8.0V0.57A', '8.5V0.585A', '9.0V0.606A', '9.5V0.624A', \n",
    "             '10.0V0.639A10x', '10.0V0.642A1x', '10.0V0.645A']\n",
    "\n",
    "data, u = [], []\n",
    "for i in range(len(filenames)):\n",
    "    data.append(np.loadtxt(directory+filenames[i]+'.txt', skiprows=2))\n",
    "data = np.array(data)\n",
    "\n",
    "#Clear zero data at beginning of file\n",
    "for i in range(len(filenames)):\n",
    "    while (Decimal((float)(data[i][0][0])) == Decimal('0.0')): data[i] = np.delete(data[i], (0), axis=0)\n",
    "    u.append([finderror(data[i][j,1], a_sensor) for j in range(len(data[i]))])\n",
    "\n",
    "data, u = np.array(data), np.array(u)"
   ]
  },
  {
   "cell_type": "code",
   "execution_count": null,
   "metadata": {},
   "outputs": [],
   "source": [
    "%%time\n",
    "#CPU times: user 8.78 s, sys: 1.64 s, total: 10.4 s Wall time: 5.54 s\n",
    "\n",
    "#Plot data\n",
    "for i in range(len(data)):\n",
    "    plot_function(data[i], u[i], filenames[i], 'Light Intensity vs Sensor Position, '+filenames[i],\n",
    "                  directory='graphs/raw/')\n",
    "    plot_function(data[i], u[i], filenames[i]+'eb', 'Light Intensity vs Sensor Position, '+filenames[i], \n",
    "                  plot_error=True, directory='graphs/rawerror/')"
   ]
  },
  {
   "cell_type": "code",
   "execution_count": 48,
   "metadata": {},
   "outputs": [
    {
     "ename": "NameError",
     "evalue": "name 'pairs' is not defined",
     "output_type": "error",
     "traceback": [
      "\u001b[0;31m---------------------------------------------------------------------------\u001b[0m",
      "\u001b[0;31mNameError\u001b[0m                                 Traceback (most recent call last)",
      "\u001b[0;32m<ipython-input-48-89105d952ce5>\u001b[0m in \u001b[0;36m<module>\u001b[0;34m()\u001b[0m\n\u001b[1;32m      7\u001b[0m \u001b[0;34m\u001b[0m\u001b[0m\n\u001b[1;32m      8\u001b[0m \u001b[0;32mfor\u001b[0m \u001b[0mpair\u001b[0m \u001b[0;32min\u001b[0m \u001b[0mangles\u001b[0m\u001b[0;34m:\u001b[0m\u001b[0;34m\u001b[0m\u001b[0m\n\u001b[0;32m----> 9\u001b[0;31m     \u001b[0mprint\u001b[0m\u001b[0;34m(\u001b[0m\u001b[0mpairs\u001b[0m\u001b[0;34m[\u001b[0m\u001b[0;36m1\u001b[0m\u001b[0;34m]\u001b[0m\u001b[0;34m-\u001b[0m\u001b[0mpars\u001b[0m\u001b[0;34m[\u001b[0m\u001b[0;36m0\u001b[0m\u001b[0;34m]\u001b[0m\u001b[0;34m)\u001b[0m\u001b[0;34m\u001b[0m\u001b[0m\n\u001b[0m",
      "\u001b[0;31mNameError\u001b[0m: name 'pairs' is not defined"
     ]
    }
   ],
   "source": [
    "angles = []\n",
    "\n",
    "for entry in data:\n",
    "    angles.append(find_peaks(entry))\n",
    "\n",
    "angles = np.array(angles)\n",
    "\n",
    "for pair in angles:\n",
    "    print(pairs[1]-pars[0])"
   ]
  },
  {
   "cell_type": "code",
   "execution_count": null,
   "metadata": {},
   "outputs": [],
   "source": []
  }
 ],
 "metadata": {
  "kernelspec": {
   "display_name": "Python 3",
   "language": "python",
   "name": "python3"
  },
  "language_info": {
   "codemirror_mode": {
    "name": "ipython",
    "version": 3
   },
   "file_extension": ".py",
   "mimetype": "text/x-python",
   "name": "python",
   "nbconvert_exporter": "python",
   "pygments_lexer": "ipython3",
   "version": "3.6.4"
  }
 },
 "nbformat": 4,
 "nbformat_minor": 2
}
