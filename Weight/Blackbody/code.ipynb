{
 "cells": [
  {
   "cell_type": "code",
   "execution_count": 3,
   "metadata": {},
   "outputs": [],
   "source": [
    "import numpy as np\n",
    "from matplotlib import pyplot as plt\n",
    "from scipy.optimize import curve_fit\n",
    "\n",
    "#Graphing variables\n",
    "page_width = (8.5, 5)"
   ]
  },
  {
   "cell_type": "code",
   "execution_count": null,
   "metadata": {},
   "outputs": [],
   "source": [
    "#Calculate accurate floating point uncertainties using the Decimal module\n",
    "\n",
    "#Uncertainty percentages recorded from \n",
    "#ftp://ftp.pasco.com/Support/Documents/english/CI/CI-6630/012-08541b.pdf\n",
    "a_sensor = 0.0001\n",
    "\n",
    "''' Finds the first significant digit in Decimal object n.\n",
    "'''\n",
    "def firstdigit(n):\n",
    "    abs_n = abs(n)\n",
    "    place = 0\n",
    "    if (abs_n >= Decimal('1.0')):\n",
    "        while (abs_n >= Decimal('10.0')):\n",
    "            abs_n = Decimal.shift(abs_n, -1)\n",
    "            place -= 1\n",
    "    else:\n",
    "        while (abs_n < Decimal('1.0')):\n",
    "            abs_n = Decimal.shift(abs_n, 1)\n",
    "            place += 1\n",
    "    return round(n, place)\n",
    "\n",
    "''' Finds the last significant digit in Decimal object n.\n",
    "'''\n",
    "def lastdigit(n):\n",
    "    place = 0\n",
    "    while (n % Decimal('1.0') == Decimal('0.0')):\n",
    "        n = Decimal.shift(n, -1)\n",
    "    while (n % Decimal('1.0') != Decimal('0.0')):\n",
    "        n = Decimal.shift(n, 1)\n",
    "        place -= 1\n",
    "    return place\n",
    "\n",
    "''' Calculates the maximum uncertainty by taking the larger between the error of\n",
    "    accuracy and the error of precision.\n",
    "    Error of accuracy is rounded to one significant digit.\n",
    "'''\n",
    "def finderror(x, a):\n",
    "    dec_x = Decimal(str(np.abs(x)))\n",
    "    dec_a = Decimal(str(a))\n",
    "    err_a = firstdigit(dec_x * dec_a)\n",
    "    err_p = Decimal('1.0') * Decimal(str(10.0**(lastdigit(dec_x))))\n",
    "    return (float)(max(err_a, err_p))"
   ]
  },
  {
   "cell_type": "code",
   "execution_count": 13,
   "metadata": {},
   "outputs": [
    {
     "data": {
      "text/plain": [
       "\" Model function for blackbody radiation, based on Wien's Law. \\n\""
      ]
     },
     "execution_count": 13,
     "metadata": {},
     "output_type": "execute_result"
    }
   ],
   "source": [
    "#Function definitions\n",
    "\n",
    "''' Plot a function, with optional parameters.\n",
    "'''\n",
    "def plot_function(data, weight, filename, title, directory='graphs/',\n",
    "                  second_data=None, second_label=None):\n",
    "    plt.errorbar(data[0:], data[1:], yerr=weight, linewidth=0.8, capthick=1.2, capsize=2.0, label='data')\n",
    "    if second_data: \n",
    "        plt.plot(second_data[0], second_data[1], label=second_label)\n",
    "        plt.legend()\n",
    "    plt.xlabel('Sensor Position (degrees)')\n",
    "    plt.ylabel('Light Intensity (Volts)')\n",
    "    plt.title(title)\n",
    "    plt.savefig(directory+filename+'.png', bbox_inches='tight')\n",
    "\n",
    "''' Model function for blackbody radiation, based on Wien's Law. \n",
    "'''"
   ]
  },
  {
   "cell_type": "code",
   "execution_count": 9,
   "metadata": {},
   "outputs": [],
   "source": [
    "#Load the data\n",
    "directory = 'data/'\n",
    "filenames = ['4.0V0.384A', '4.5V0.412A', '5.0V0.437A', '5.5V0.463A', '6.0V0.481A', '6.5V0.508A', \n",
    "             '7.0V0.531A', '7.5V0.549A', '8.0V0.57A', '8.5V0.585A', '9.0V0.606A', '9.5V0.624A', \n",
    "             '10.0V0.639A10x', '10.0V0.642A1x', '10.0V0.645A']\n",
    "\n",
    "data = []\n",
    "for i in range(len(filenames)):\n",
    "    data.append(np.loadtxt(directory+filenames[i]+'.txt', skiprows=2))\n",
    "data = np.array(data)"
   ]
  },
  {
   "cell_type": "code",
   "execution_count": null,
   "metadata": {},
   "outputs": [],
   "source": []
  }
 ],
 "metadata": {
  "kernelspec": {
   "display_name": "Python 3",
   "language": "python",
   "name": "python3"
  },
  "language_info": {
   "codemirror_mode": {
    "name": "ipython",
    "version": 3
   },
   "file_extension": ".py",
   "mimetype": "text/x-python",
   "name": "python",
   "nbconvert_exporter": "python",
   "pygments_lexer": "ipython3",
   "version": "3.6.4"
  }
 },
 "nbformat": 4,
 "nbformat_minor": 2
}
