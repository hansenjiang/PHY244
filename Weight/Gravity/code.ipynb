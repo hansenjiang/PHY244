{
 "cells": [
  {
   "cell_type": "code",
   "execution_count": 74,
   "metadata": {},
   "outputs": [],
   "source": [
    "import numpy as np\n",
    "from matplotlib import pyplot as plt\n",
    "from scipy.optimize import curve_fit\n",
    "from scipy import constants as c\n",
    "\n",
    "#Define constants\n",
    "gal = 0.01 * 10**(-3)\n",
    "constant = 0.10055\n",
    "h_floor = 3.95\n",
    "m_floor = 10**6\n",
    "g = 9.804253\n",
    "r_earth = 6371 * 10**3\n",
    "m_sun = 2 * 10**30\n",
    "au = 1.5 * 10**11"
   ]
  },
  {
   "cell_type": "code",
   "execution_count": 83,
   "metadata": {},
   "outputs": [
    {
     "name": "stdout",
     "output_type": "stream",
     "text": [
      "-1.007894846421944e-06\n"
     ]
    }
   ],
   "source": [
    "#Calculations\n",
    "g_sun = c.G*2*10**30/(1.5*10**11)**2\n",
    "delta_g = c.G * m_sun * (1/(au + r_earth)**2 - 1/(au - r_earth)**2)\n",
    "\n",
    "print(delta_g)"
   ]
  },
  {
   "cell_type": "code",
   "execution_count": 78,
   "metadata": {},
   "outputs": [],
   "source": [
    "''' Model function for linear regression.\n",
    "'''\n",
    "def linear(x, a, b):\n",
    "    return a*x +b\n",
    "\n",
    "\n",
    "''' Returns an array of the difference between the g-value and the most recent reference g-value, with the\n",
    "    corresponding floor levels. \n",
    "'''\n",
    "def delta_g(data):\n",
    "    base = 0\n",
    "    delta = []\n",
    "    for i in range(len(data)):\n",
    "        if data[i,0] == 3: \n",
    "            base = i\n",
    "        else:\n",
    "            delta.append((data[i,0], data[i,1] - data[base,1]))\n",
    "    return np.array(delta)\n",
    "\n",
    "\n",
    "''' Returns an estimate of the radius of the Earth as per Equation 1. \n",
    "'''\n",
    "def find_radius(delta_g, floor, reference=3):\n",
    "    return -2 * (floor - reference) * h_floor * g / delta_g"
   ]
  },
  {
   "cell_type": "code",
   "execution_count": 77,
   "metadata": {},
   "outputs": [],
   "source": [
    "#Load data\n",
    "data = np.loadtxt('data.txt', delimiter=' ', skiprows=1)\n",
    "u = np.array([0.1 for item in data])"
   ]
  },
  {
   "cell_type": "code",
   "execution_count": 79,
   "metadata": {},
   "outputs": [
    {
     "data": {
      "image/png": "[encoded data removed]",
      "text/plain": [
       "<matplotlib.figure.Figure at 0x15250324e0>"
      ]
     },
     "metadata": {},
     "output_type": "display_data"
    }
   ],
   "source": [
    "popt, pcov = curve_fit(linear, data[:,0], data[:,1])\n",
    "\n",
    "plt.figure(figsize=(8.5,6))\n",
    "plt.errorbar(data[:,0], data[:,1], yerr=u, elinewidth=1.0, capthick=1.0, capsize=2.0, fmt='none')\n",
    "space = np.linspace(0,15,100)\n",
    "plt.plot(space, linear(space, popt[0], popt[1]), color='orange')\n",
    "plt.show()"
   ]
  },
  {
   "cell_type": "code",
   "execution_count": 80,
   "metadata": {},
   "outputs": [
    {
     "data": {
      "image/png": "[encoded data removed]",
      "text/plain": [
       "<matplotlib.figure.Figure at 0x1525042710>"
      ]
     },
     "metadata": {},
     "output_type": "display_data"
    }
   ],
   "source": [
    "si_data = np.array([(item[0], item[1] * constant * gal) for item in data])\n",
    "#print(si_data)\n",
    "\n",
    "\n",
    "delta = delta_g(si_data)\n",
    "plt.scatter(delta[:,0], delta[:,1], s=1**2)\n",
    "plt.ylim(-0.0002,0.0001)\n",
    "plt.show()   "
   ]
  },
  {
   "cell_type": "code",
   "execution_count": 81,
   "metadata": {},
   "outputs": [
    {
     "name": "stdout",
     "output_type": "stream",
     "text": [
      "0.06554792930824374\n"
     ]
    }
   ],
   "source": [
    "r = np.mean(find_radius(delta[:,1], delta[:,0]))\n",
    "r_earth = 6371 * 10**3\n",
    "\n",
    "print((r-r_earth)/r_earth)"
   ]
  },
  {
   "cell_type": "code",
   "execution_count": 82,
   "metadata": {},
   "outputs": [
    {
     "name": "stdout",
     "output_type": "stream",
     "text": [
      "0.10710003088502335\n"
     ]
    }
   ],
   "source": [
    "delta_cut = []\n",
    "\n",
    "for item in delta:\n",
    "    if 3 <= item[0] <= 13: delta_cut.append((item[0], item[1]))\n",
    "delta_cut = np.array(delta_cut)\n",
    "\n",
    "r_cut = np.mean(find_radius(delta_cut[:,1], delta_cut[:,0]))\n",
    "\n",
    "print((r_cut-r_earth)/r_earth)"
   ]
  },
  {
   "cell_type": "code",
   "execution_count": null,
   "metadata": {},
   "outputs": [],
   "source": []
  }
 ],
 "metadata": {
  "kernelspec": {
   "display_name": "Python 3",
   "language": "python",
   "name": "python3"
  },
  "language_info": {
   "codemirror_mode": {
    "name": "ipython",
    "version": 3
   },
   "file_extension": ".py",
   "mimetype": "text/x-python",
   "name": "python",
   "nbconvert_exporter": "python",
   "pygments_lexer": "ipython3",
   "version": "3.6.4"
  }
 },
 "nbformat": 4,
 "nbformat_minor": 2
}
