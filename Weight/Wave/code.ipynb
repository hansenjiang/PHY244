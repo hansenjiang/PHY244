{
 "cells": [
  {
   "cell_type": "code",
   "execution_count": 86,
   "metadata": {},
   "outputs": [],
   "source": [
    "import numpy as np\n",
    "from matplotlib import pyplot as plt\n",
    "import matplotlib as mpl\n",
    "from cycler import cycler\n",
    "from scipy.optimize import curve_fit\n",
    "\n",
    "#Change default matplotlib rcParams. View available settings via mpl.rcParams.keys()\n",
    "mpl.rcParams['figure.figsize'] = (10,6)\n",
    "mpl.rcParams['savefig.bbox'] = 'tight'\n",
    "mpl.rcParams['axes.prop_cycle'] = cycler('color', ['#f44242', '#f49841', '#eff248', '#bcf252', '#7cf151', \n",
    "                                                   '#5def89', '#5cefc3', '#5ce5ef', '#5fa8e8', '#4658e2',\n",
    "                                                   '#6a45c6', '#8b44c6', '#b644c6', '#c644a7', '#c64471',\n",
    "                                                   '#c64450'])\n",
    "mpl.rcParams['xtick.minor.bottom'] = True\n",
    "mpl.rcParams['xtick.minor.visible'] = True"
   ]
  },
  {
   "cell_type": "code",
   "execution_count": 132,
   "metadata": {},
   "outputs": [],
   "source": [
    "depth = np.loadtxt('data/depth.txt', skiprows=1, delimiter='\\t')\n",
    "depth2 = np.loadtxt('data/depth2.txt', skiprows=1, delimiter='\\t')\n",
    "\n",
    "data = []\n",
    "for i in [4,7,8]: data.append(np.array([(1/item[0], item[1], 0.01, i) for item in depth if item[2] == i]))\n",
    "data = np.array(data)\n",
    "\n",
    "data2 = []\n",
    "for i in [4,5,6,8,9]: data2.append(np.array([(1/item[0], item[1], 0.01, i) for item in depth2 if item[2] == i]))\n",
    "data2 = np.array(data2)"
   ]
  },
  {
   "cell_type": "code",
   "execution_count": 84,
   "metadata": {},
   "outputs": [
    {
     "data": {
      "text/plain": [
       "<matplotlib.figure.Figure at 0x11ec74518>"
      ]
     },
     "metadata": {},
     "output_type": "display_data"
    }
   ],
   "source": [
    "for depth in data:\n",
    "    plt.errorbar(depth[:,0], depth[:,1], yerr=depth[:,2], elinewidth=1.0, capthick=1.0, capsize=3.0, \n",
    "                 fmt='.', label='depth = '+str(depth[0,3])+'mm')\n",
    "    plt.plot(depth[:,0], depth[:,1], linewidth=0.5)\n",
    "plt.xlabel('Frequency$^{-1}$ (s)')\n",
    "plt.ylabel('Average Wavelength (cm)')\n",
    "plt.title('$\\lambda_{av}$ vs $f$')\n",
    "plt.legend()\n",
    "plt.savefig('graphs/datar.png')\n",
    "plt.clf()\n",
    "\n",
    "for depth in data2:\n",
    "    plt.errorbar(depth[:,0], depth[:,1], yerr=depth[:,2], elinewidth=1.0, capthick=1.0, capsize=3.0, \n",
    "                 fmt='.', label='depth = '+str(depth[0,3])+'mm')\n",
    "    plt.plot(depth[:,0], depth[:,1], linewidth=0.5)\n",
    "plt.xlabel('Frequency$^{-1}$ (s)')\n",
    "plt.ylabel('Average Wavelength (cm)')\n",
    "plt.title('$\\lambda_{av}$ vs $f$')\n",
    "plt.legend()\n",
    "plt.savefig('graphs/data2r.png')\n",
    "plt.clf()"
   ]
  },
  {
   "cell_type": "code",
   "execution_count": 119,
   "metadata": {},
   "outputs": [
    {
     "name": "stdout",
     "output_type": "stream",
     "text": [
      "4.0 mm > m= 0.17027947581672162 +- 0.0028734525368211417  c= 0.0017079803157057335 +- 0.0002984036929775635\n",
      "chi= 24.120360709587455\n",
      "7.0 mm > m= 0.20778276555316674 +- 0.0028982556394087423  c= -0.0001467181318667181 +- 0.00023789951785623765\n",
      "chi= 3.6053648220504377\n",
      "8.0 mm > m= 0.21562546875153232 +- 0.006155520439826676  c= -0.0006461995244057137 +- 0.0005052679623944821\n",
      "chi= 16.26317712141343\n",
      "\n",
      "\n",
      "4.0 mm > m= 0.17086473890777065 +- 0.003912919091856096  c= 0.0020853303874616798 +- 0.0003211869393965972\n",
      "chi= 6.571698414819902\n",
      "5.0 mm > m= 0.19930345369465535 +- 0.0040069244781089424  c= 0.0005597268806425024 +- 0.0003289032687947144\n",
      "chi= 6.891252289719299\n",
      "6.0 mm > m= 0.20093129667029824 +- 0.004093234645099028  c= 0.00046090390862843137 +- 0.0003359879324359572\n",
      "chi= 7.19132828612386\n",
      "8.0 mm > m= 0.22529148835729204 +- 0.007160497980817104  c= -0.0007026587131340564 +- 0.0005877603162693482\n",
      "chi= 22.007083126963828\n",
      "9.0 mm > m= 0.2440139938921352 +- 0.011604153997458082  c= -0.0018393037743921511 +- 0.0009525120938713229\n",
      "chi= 57.79666821280034\n"
     ]
    },
    {
     "data": {
      "text/plain": [
       "<matplotlib.figure.Figure at 0x11d9569b0>"
      ]
     },
     "metadata": {},
     "output_type": "display_data"
    }
   ],
   "source": [
    "def linear(x, a, b):\n",
    "    return a*x + b\n",
    "\n",
    "def red_chi2(x, y, u, n):\n",
    "    squares = np.sum(((x-y)/u)**2)\n",
    "    return squares/(len(x) - n)\n",
    "\n",
    "opt, opt2 = [], []\n",
    "\n",
    "for depth in data:\n",
    "    opt.append((curve_fit(linear, depth[:,0], depth[:,1]/100, sigma=depth[:,2]/100)))\n",
    "    plt.errorbar(depth[:,0], depth[:,1]/100, yerr=depth[:,2]/100, elinewidth=1.0, capthick=1.0, capsize=3.0, \n",
    "                 fmt='.', label='depth = '+str(depth[0,3])+'mm')\n",
    "    plt.plot(depth[:,0], linear(depth[:,0], opt[-1][0][0], opt[-1][0][1]), linewidth=0.5)\n",
    "    print(depth[0,3],'mm >','m=',opt[-1][0][0],'+-',np.sqrt(opt[-1][1][0,0]),' c=',opt[-1][0][1],'+-',np.sqrt(opt[-1][1][1,1]))\n",
    "    print('chi=',red_chi2(depth[:,1]/100, linear(depth[:,0], opt[-1][0][0], opt[-1][0][1]), depth[:,2]/100, 2))\n",
    "plt.xlabel('Frequency$^{-1}$ (s)')\n",
    "plt.ylabel('Average Wavelength (m)')\n",
    "plt.title('$\\lambda_{av}$ vs $f$')\n",
    "plt.legend()\n",
    "plt.savefig('graphs/datarfit.png')\n",
    "plt.clf()\n",
    "\n",
    "print('\\n')\n",
    "\n",
    "for depth in data2:\n",
    "    opt2.append((curve_fit(linear, depth[:,0], depth[:,1]/100, sigma=depth[:,2]/100)))\n",
    "    plt.errorbar(depth[:,0], depth[:,1]/100, yerr=depth[:,2]/100, elinewidth=1.0, capthick=1.0, capsize=3.0, \n",
    "                 fmt='.', label='depth = '+str(depth[0,3])+'mm')\n",
    "    plt.plot(depth[:,0], linear(depth[:,0], opt2[-1][0][0], opt2[-1][0][1]), linewidth=0.5)\n",
    "    print(depth[0,3],'mm >','m=',opt2[-1][0][0],'+-',np.sqrt(opt2[-1][1][0,0]),' c=',opt2[-1][0][1],'+-',np.sqrt(opt2[-1][1][1,1]))\n",
    "    print('chi=',red_chi2(depth[:,1]/100, linear(depth[:,0], opt2[-1][0][0], opt2[-1][0][1]), depth[:,2]/100, 2))\n",
    "plt.xlabel('Frequency$^{-1}$ (s)')\n",
    "plt.ylabel('Average Wavelength (m)')\n",
    "plt.title('$\\lambda_{av}$ vs $f$')\n",
    "plt.legend()\n",
    "plt.savefig('graphs/data2rfit.png')\n",
    "plt.clf()"
   ]
  },
  {
   "cell_type": "code",
   "execution_count": 145,
   "metadata": {},
   "outputs": [
    {
     "data": {
      "text/plain": [
       "<matplotlib.figure.Figure at 0x1528efc710>"
      ]
     },
     "metadata": {},
     "output_type": "display_data"
    }
   ],
   "source": [
    "v = []\n",
    "for i in [4,7,8]: \n",
    "    v.append(np.array([(item[1]/100, item[1]/100*item[0], \n",
    "                        item[1]/100*item[0]*np.sqrt((0.01/item[1]*100)**2+(0.01/item[0])**2), \n",
    "                        i) for item in depth if item[2] == i]))\n",
    "v = np.array(v)\n",
    "\n",
    "v2 = []\n",
    "for i in [4,5,6,8,9]: \n",
    "    v2.append(np.array([(item[1]/100, item[1]/100*item[0], \n",
    "                         item[1]/100*item[0]*np.sqrt((0.01/item[1]*100)**2+(0.01/item[0])**2), \n",
    "                         i) for item in depth2 if item[2] == i]))\n",
    "v2 = np.array(v2)\n",
    "\n",
    "for level in v:\n",
    "    plt.errorbar(level[:,0], level[:,1], yerr=level[:,2], elinewidth=1.0, capthick=1.0, capsize=3.0, \n",
    "                 fmt='o', label='depth = '+str(level[0,3])+'mm')\n",
    "plt.xlabel('Wavelength (m)')\n",
    "plt.ylabel('v (m/s)')\n",
    "plt.title('$v$ vs $\\lambda$')\n",
    "plt.legend()\n",
    "plt.savefig('graphs/v.png')\n",
    "plt.clf()\n",
    "\n",
    "for level in v2:\n",
    "    plt.errorbar(level[:,0], level[:,1], yerr=level[:,2], elinewidth=1.0, capthick=1.0, capsize=3.0, \n",
    "                 fmt='o', label='depth = '+str(level[0,3])+'mm')\n",
    "plt.xlabel('Wavelength (m)')\n",
    "plt.ylabel('v (m/s)')\n",
    "plt.title('$v$ vs $\\lambda$')\n",
    "plt.legend()\n",
    "plt.savefig('graphs/v2.png')\n",
    "plt.clf()"
   ]
  },
  {
   "cell_type": "code",
   "execution_count": 173,
   "metadata": {},
   "outputs": [
    {
     "name": "stdout",
     "output_type": "stream",
     "text": [
      "[0.95009584 0.00949684] 0.03807951329824973 0.011937655001857426\n"
     ]
    },
    {
     "data": {
      "image/png": "[encoded data removed]",
      "text/plain": [
       "<matplotlib.figure.Figure at 0x152a26d9e8>"
      ]
     },
     "metadata": {},
     "output_type": "display_data"
    }
   ],
   "source": [
    "e4 = np.loadtxt('data/e4.txt', skiprows=1, delimiter='\\t')\n",
    "\n",
    "popt, pcov = curve_fit(linear, 1/e4[:,0], np.sin(e4[:,1]*np.pi/180), sigma=[0.01 for item in e4])\n",
    "print(popt, np.sqrt(pcov[0,0]), np.sqrt(pcov[1,1]))\n",
    "\n",
    "plt.errorbar(1/e4[:,0], np.sin(e4[:,1]*np.pi/180), yerr=0.01, elinewidth=1.0, capthick=1.0, capsize=3.0, \n",
    "             fmt='.', label='data')\n",
    "plt.plot(1/e4[:,0], linear(1/e4[:,0], popt[0], popt[1]), linewidth=1.0, label='best fit')\n",
    "plt.xlabel('a$^{-1}$ (1/mm)')\n",
    "plt.ylabel('sin($\\Theta$)')\n",
    "plt.title('sin($\\Theta$) vs 1/a')\n",
    "plt.legend()\n",
    "plt.savefig('graphs/e4.png')\n",
    "\n"
   ]
  },
  {
   "cell_type": "code",
   "execution_count": null,
   "metadata": {},
   "outputs": [],
   "source": []
  },
  {
   "cell_type": "code",
   "execution_count": null,
   "metadata": {},
   "outputs": [],
   "source": []
  },
  {
   "cell_type": "code",
   "execution_count": null,
   "metadata": {},
   "outputs": [],
   "source": []
  },
  {
   "cell_type": "code",
   "execution_count": null,
   "metadata": {},
   "outputs": [],
   "source": []
  }
 ],
 "metadata": {
  "kernelspec": {
   "display_name": "Python 3",
   "language": "python",
   "name": "python3"
  },
  "language_info": {
   "codemirror_mode": {
    "name": "ipython",
    "version": 3
   },
   "file_extension": ".py",
   "mimetype": "text/x-python",
   "name": "python",
   "nbconvert_exporter": "python",
   "pygments_lexer": "ipython3",
   "version": "3.6.4"
  }
 },
 "nbformat": 4,
 "nbformat_minor": 2
}
