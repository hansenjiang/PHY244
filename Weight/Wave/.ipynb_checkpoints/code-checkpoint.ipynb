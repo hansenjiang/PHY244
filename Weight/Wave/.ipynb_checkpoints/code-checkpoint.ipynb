{
 "cells": [
  {
   "cell_type": "code",
   "execution_count": 65,
   "metadata": {},
   "outputs": [],
   "source": [
    "import numpy as np\n",
    "from matplotlib import pyplot as plt\n",
    "import matplotlib as mpl\n",
    "from cycler import cycler\n",
    "\n",
    "#Change default matplotlib rcParams. View available settings via mpl.rcParams.keys()\n",
    "mpl.rcParams['figure.figsize'] = (10,6)\n",
    "mpl.rcParams['savefig.bbox'] = 'tight'\n",
    "mpl.rcParams['axes.prop_cycle'] = cycler('color', ['#f44242', '#f49841', '#eff248', '#bcf252', '#7cf151', \n",
    "                                                   '#5def89', '#5cefc3', '#5ce5ef', '#5fa8e8', '#4658e2',\n",
    "                                                   '#6a45c6', '#8b44c6', '#b644c6', '#c644a7', '#c64471',\n",
    "                                                   '#c64450'])\n",
    "mpl.rcParams['xtick.minor.bottom'] = True\n",
    "mpl.rcParams['xtick.minor.visible'] = True"
   ]
  },
  {
   "cell_type": "code",
   "execution_count": 81,
   "metadata": {},
   "outputs": [],
   "source": [
    "depth = np.loadtxt('data/depth.txt', skiprows=1, delimiter='\\t')\n",
    "depth2 = np.loadtxt('data/depth2.txt', skiprows=1, delimiter='\\t')\n",
    "\n",
    "data = []\n",
    "for i in [4,7,8]: data.append(np.array([(1/item[0], item[1], 0.01, i) for item in depth if item[2] == i]))\n",
    "data = np.array(data)\n",
    "\n",
    "data2 = []\n",
    "for i in [4,5,6,8,9]: data2.append(np.array([(1/item[0], item[1], 0.01, i) for item in depth2 if item[2] == i]))\n",
    "data2 = np.array(data2)"
   ]
  },
  {
   "cell_type": "code",
   "execution_count": 82,
   "metadata": {},
   "outputs": [
    {
     "data": {
      "text/plain": [
       "<matplotlib.figure.Figure at 0x11d7a5978>"
      ]
     },
     "metadata": {},
     "output_type": "display_data"
    }
   ],
   "source": [
    "for depth in data:\n",
    "    plt.errorbar(depth[:,0], depth[:,1], yerr=depth[:,2], elinewidth=1.0, capthick=1.0, capsize=3.0, \n",
    "                 fmt='.', label='depth = '+str(depth[0,3])+'mm')\n",
    "    plt.plot(depth[:,0], depth[:,1], linewidth=0.5)\n",
    "plt.xlabel('Frequency (Hz)')\n",
    "plt.ylabel('Average Wavelength (cm)')\n",
    "plt.title('$\\lambda_{av}$ vs $f$')\n",
    "plt.legend()\n",
    "plt.savefig('graphs/datar.png')\n",
    "plt.clf()\n",
    "\n",
    "for depth in data2:\n",
    "    plt.errorbar(depth[:,0], depth[:,1], yerr=depth[:,2], elinewidth=1.0, capthick=1.0, capsize=3.0, \n",
    "                 fmt='.', label='depth = '+str(depth[0,3])+'mm')\n",
    "    plt.plot(depth[:,0], depth[:,1], linewidth=0.5)\n",
    "plt.xlabel('Frequency (Hz)')\n",
    "plt.ylabel('Average Wavelength (cm)')\n",
    "plt.title('$\\lambda_{av}$ vs $f$')\n",
    "plt.legend()\n",
    "plt.savefig('graphs/data2r.png')\n",
    "plt.clf()"
   ]
  },
  {
   "cell_type": "code",
   "execution_count": null,
   "metadata": {},
   "outputs": [],
   "source": []
  }
 ],
 "metadata": {
  "kernelspec": {
   "display_name": "Python 3",
   "language": "python",
   "name": "python3"
  },
  "language_info": {
   "codemirror_mode": {
    "name": "ipython",
    "version": 3
   },
   "file_extension": ".py",
   "mimetype": "text/x-python",
   "name": "python",
   "nbconvert_exporter": "python",
   "pygments_lexer": "ipython3",
   "version": "3.6.4"
  }
 },
 "nbformat": 4,
 "nbformat_minor": 2
}
